{
 "cells": [
  {
   "cell_type": "markdown",
   "metadata": {},
   "source": [
    "<h1>Lasso model<span class=\"tocSkip\"></span></h1>"
   ]
  },
  {
   "cell_type": "markdown",
   "metadata": {
    "toc": true
   },
   "source": [
    "<h1>Table of Contents<span class=\"tocSkip\"></span></h1>\n",
    "<div class=\"toc\"><ul class=\"toc-item\"><li><span><a href=\"#Introduction\" data-toc-modified-id=\"Introduction-1\"><span class=\"toc-item-num\">1&nbsp;&nbsp;</span>Introduction</a></span></li><li><span><a href=\"#Load-data\" data-toc-modified-id=\"Load-data-2\"><span class=\"toc-item-num\">2&nbsp;&nbsp;</span>Load data</a></span></li><li><span><a href=\"#Preprocessing\" data-toc-modified-id=\"Preprocessing-3\"><span class=\"toc-item-num\">3&nbsp;&nbsp;</span>Preprocessing</a></span></li><li><span><a href=\"#Build-model\" data-toc-modified-id=\"Build-model-4\"><span class=\"toc-item-num\">4&nbsp;&nbsp;</span>Build model</a></span></li><li><span><a href=\"#Predict\" data-toc-modified-id=\"Predict-5\"><span class=\"toc-item-num\">5&nbsp;&nbsp;</span>Predict</a></span></li></ul></div>"
   ]
  },
  {
   "cell_type": "markdown",
   "metadata": {},
   "source": [
    "# Introduction "
   ]
  },
  {
   "cell_type": "markdown",
   "metadata": {},
   "source": [
    "This notebook will build a lasso model to predict yeast Diamide phneotype based on genotypes. The phenotypes values were binarized, 0 for negative value and 1 for positive value, while the NAs were ignored. \n",
    "\n",
    "The parameter lambda is optimized by using cross-validation. "
   ]
  },
  {
   "cell_type": "code",
   "execution_count": 1,
   "metadata": {},
   "outputs": [
    {
     "name": "stderr",
     "output_type": "stream",
     "text": [
      "Loaded glmnet 2.0-16\n",
      "\n",
      "Loading required package: lattice\n",
      "Loading required package: ggplot2\n"
     ]
    }
   ],
   "source": [
    "library('fdrtool')\n",
    "library('Matrix')\n",
    "library('foreach')\n",
    "library('glmnet')\n",
    "library('caTools')\n",
    "library('mltools')\n",
    "library('caret')\n",
    "\n",
    "set.seed(28217)"
   ]
  },
  {
   "cell_type": "code",
   "execution_count": 2,
   "metadata": {},
   "outputs": [],
   "source": [
    "normalize <- function(x) {\n",
    "    return ((x - min(x)) / (max(x) - min(x)))\n",
    "  }"
   ]
  },
  {
   "cell_type": "markdown",
   "metadata": {},
   "source": [
    "# Load data"
   ]
  },
  {
   "cell_type": "code",
   "execution_count": 3,
   "metadata": {},
   "outputs": [
    {
     "data": {
      "text/html": [
       "'genotype size: (4390, 28220)'"
      ],
      "text/latex": [
       "'genotype size: (4390, 28220)'"
      ],
      "text/markdown": [
       "'genotype size: (4390, 28220)'"
      ],
      "text/plain": [
       "[1] \"genotype size: (4390, 28220)\""
      ]
     },
     "metadata": {},
     "output_type": "display_data"
    }
   ],
   "source": [
    "# load data\n",
    "genotype_file <- 'data/genotype_full.txt' \n",
    "genotype <- read.table(\n",
    "  file = genotype_file,\n",
    "  sep = '\\t',\n",
    "  header = TRUE,\n",
    "  check.names = FALSE,\n",
    "  row.names = 1\n",
    ")\n",
    "sprintf('genotype size: (%d, %d)', nrow(genotype), ncol(genotype))"
   ]
  },
  {
   "cell_type": "code",
   "execution_count": 4,
   "metadata": {},
   "outputs": [
    {
     "name": "stderr",
     "output_type": "stream",
     "text": [
      "ERROR while rich displaying an object: Error in sprintf(wrap, caption, header, body): 'fmt' length exceeds maximal format length 8192\n",
      "\n",
      "Traceback:\n",
      "1. FUN(X[[i]], ...)\n",
      "2. tryCatch(withCallingHandlers({\n",
      " .     if (!mime %in% names(repr::mime2repr)) \n",
      " .         stop(\"No repr_* for mimetype \", mime, \" in repr::mime2repr\")\n",
      " .     rpr <- repr::mime2repr[[mime]](obj)\n",
      " .     if (is.null(rpr)) \n",
      " .         return(NULL)\n",
      " .     prepare_content(is.raw(rpr), rpr)\n",
      " . }, error = error_handler), error = outer_handler)\n",
      "3. tryCatchList(expr, classes, parentenv, handlers)\n",
      "4. tryCatchOne(expr, names, parentenv, handlers[[1L]])\n",
      "5. doTryCatch(return(expr), name, parentenv, handler)\n",
      "6. withCallingHandlers({\n",
      " .     if (!mime %in% names(repr::mime2repr)) \n",
      " .         stop(\"No repr_* for mimetype \", mime, \" in repr::mime2repr\")\n",
      " .     rpr <- repr::mime2repr[[mime]](obj)\n",
      " .     if (is.null(rpr)) \n",
      " .         return(NULL)\n",
      " .     prepare_content(is.raw(rpr), rpr)\n",
      " . }, error = error_handler)\n",
      "7. repr::mime2repr[[mime]](obj)\n",
      "8. repr_latex.data.frame(obj)\n",
      "9. repr_matrix_generic(obj, sprintf(\"%%s\\n\\\\begin{tabular}{%s}\\n%%s%%s\\\\end{tabular}\\n\", \n",
      " .     cols), \"%s\\\\hline\\n\", \"%s\\\\\\\\\\n\", \"  &\", \" %s &\", \"%s\", \"\\t%s\\\\\\\\\\n\", \n",
      " .     \"%s &\", \" %s &\", escape_fun = latex_escape_vec, rows = rows, \n",
      " .     cols = cols, ...)\n",
      "10. sprintf(wrap, caption, header, body)\n"
     ]
    },
    {
     "data": {
      "text/html": [
       "<table>\n",
       "<caption>A data.frame: 6 × 28220</caption>\n",
       "<thead>\n",
       "\t<tr><th></th><th scope=col>33070_chrI_33070_A_T</th><th scope=col>33147_chrI_33147_G_T</th><th scope=col>33152_chrI_33152_T_C</th><th scope=col>33200_chrI_33200_C_T</th><th scope=col>33293_chrI_33293_A_T</th><th scope=col>33328_chrI_33328_C_A</th><th scope=col>33348_chrI_33348_G_C</th><th scope=col>33403_chrI_33403_C_T</th><th scope=col>33502_chrI_33502_A_G</th><th scope=col>33548_chrI_33548_A_C</th><th scope=col>⋯</th><th scope=col>12048853_chrXVI_925593_G_C</th><th scope=col>12049199_chrXVI_925939_T_C</th><th scope=col>12049441_chrXVI_926181_C_T</th><th scope=col>12050613_chrXVI_927353_T_G</th><th scope=col>12051167_chrXVI_927907_A_C</th><th scope=col>12051240_chrXVI_927980_A_G</th><th scope=col>12051367_chrXVI_928107_C_T</th><th scope=col>12052782_chrXVI_929522_C_T</th><th scope=col>12052988_chrXVI_929728_A_G</th><th scope=col>12053130_chrXVI_929870_C_T</th></tr>\n",
       "\t<tr><th></th><th scope=col>&lt;int&gt;</th><th scope=col>&lt;int&gt;</th><th scope=col>&lt;int&gt;</th><th scope=col>&lt;int&gt;</th><th scope=col>&lt;int&gt;</th><th scope=col>&lt;int&gt;</th><th scope=col>&lt;int&gt;</th><th scope=col>&lt;int&gt;</th><th scope=col>&lt;int&gt;</th><th scope=col>&lt;int&gt;</th><th scope=col>⋯</th><th scope=col>&lt;int&gt;</th><th scope=col>&lt;int&gt;</th><th scope=col>&lt;int&gt;</th><th scope=col>&lt;int&gt;</th><th scope=col>&lt;int&gt;</th><th scope=col>&lt;int&gt;</th><th scope=col>&lt;int&gt;</th><th scope=col>&lt;int&gt;</th><th scope=col>&lt;int&gt;</th><th scope=col>&lt;int&gt;</th></tr>\n",
       "</thead>\n",
       "<tbody>\n",
       "\t<tr><th scope=row>01_01</th><td> 1</td><td> 1</td><td> 1</td><td> 1</td><td> 1</td><td> 1</td><td> 1</td><td> 1</td><td> 1</td><td> 1</td><td>⋯</td><td>-1</td><td>-1</td><td>-1</td><td>-1</td><td>-1</td><td>-1</td><td>-1</td><td>-1</td><td>-1</td><td>-1</td></tr>\n",
       "\t<tr><th scope=row>01_02</th><td> 1</td><td> 1</td><td> 1</td><td> 1</td><td> 1</td><td> 1</td><td> 1</td><td> 1</td><td> 1</td><td> 1</td><td>⋯</td><td>-1</td><td>-1</td><td>-1</td><td>-1</td><td>-1</td><td>-1</td><td>-1</td><td>-1</td><td>-1</td><td>-1</td></tr>\n",
       "\t<tr><th scope=row>01_03</th><td>-1</td><td>-1</td><td>-1</td><td>-1</td><td>-1</td><td>-1</td><td>-1</td><td>-1</td><td>-1</td><td>-1</td><td>⋯</td><td> 1</td><td> 1</td><td> 1</td><td> 1</td><td> 1</td><td> 1</td><td> 1</td><td> 1</td><td> 1</td><td> 1</td></tr>\n",
       "\t<tr><th scope=row>01_04</th><td> 1</td><td> 1</td><td> 1</td><td> 1</td><td> 1</td><td> 1</td><td> 1</td><td> 1</td><td> 1</td><td> 1</td><td>⋯</td><td> 1</td><td> 1</td><td> 1</td><td> 1</td><td> 1</td><td> 1</td><td> 1</td><td> 1</td><td> 1</td><td> 1</td></tr>\n",
       "\t<tr><th scope=row>01_06</th><td>-1</td><td>-1</td><td>-1</td><td>-1</td><td>-1</td><td>-1</td><td>-1</td><td>-1</td><td>-1</td><td>-1</td><td>⋯</td><td>-1</td><td>-1</td><td>-1</td><td>-1</td><td>-1</td><td>-1</td><td>-1</td><td>-1</td><td>-1</td><td>-1</td></tr>\n",
       "\t<tr><th scope=row>01_07</th><td> 1</td><td> 1</td><td> 1</td><td> 1</td><td> 1</td><td> 1</td><td> 1</td><td> 1</td><td> 1</td><td> 1</td><td>⋯</td><td>-1</td><td>-1</td><td>-1</td><td>-1</td><td>-1</td><td>-1</td><td>-1</td><td>-1</td><td>-1</td><td>-1</td></tr>\n",
       "</tbody>\n",
       "</table>\n"
      ],
      "text/markdown": [
       "\n",
       "A data.frame: 6 × 28220\n",
       "\n",
       "| <!--/--> | 33070_chrI_33070_A_T &lt;int&gt; | 33147_chrI_33147_G_T &lt;int&gt; | 33152_chrI_33152_T_C &lt;int&gt; | 33200_chrI_33200_C_T &lt;int&gt; | 33293_chrI_33293_A_T &lt;int&gt; | 33328_chrI_33328_C_A &lt;int&gt; | 33348_chrI_33348_G_C &lt;int&gt; | 33403_chrI_33403_C_T &lt;int&gt; | 33502_chrI_33502_A_G &lt;int&gt; | 33548_chrI_33548_A_C &lt;int&gt; | ⋯ ⋯ | 12048853_chrXVI_925593_G_C &lt;int&gt; | 12049199_chrXVI_925939_T_C &lt;int&gt; | 12049441_chrXVI_926181_C_T &lt;int&gt; | 12050613_chrXVI_927353_T_G &lt;int&gt; | 12051167_chrXVI_927907_A_C &lt;int&gt; | 12051240_chrXVI_927980_A_G &lt;int&gt; | 12051367_chrXVI_928107_C_T &lt;int&gt; | 12052782_chrXVI_929522_C_T &lt;int&gt; | 12052988_chrXVI_929728_A_G &lt;int&gt; | 12053130_chrXVI_929870_C_T &lt;int&gt; |\n",
       "|---|---|---|---|---|---|---|---|---|---|---|---|---|---|---|---|---|---|---|---|---|---|\n",
       "| 01_01 |  1 |  1 |  1 |  1 |  1 |  1 |  1 |  1 |  1 |  1 | ⋯ | -1 | -1 | -1 | -1 | -1 | -1 | -1 | -1 | -1 | -1 |\n",
       "| 01_02 |  1 |  1 |  1 |  1 |  1 |  1 |  1 |  1 |  1 |  1 | ⋯ | -1 | -1 | -1 | -1 | -1 | -1 | -1 | -1 | -1 | -1 |\n",
       "| 01_03 | -1 | -1 | -1 | -1 | -1 | -1 | -1 | -1 | -1 | -1 | ⋯ |  1 |  1 |  1 |  1 |  1 |  1 |  1 |  1 |  1 |  1 |\n",
       "| 01_04 |  1 |  1 |  1 |  1 |  1 |  1 |  1 |  1 |  1 |  1 | ⋯ |  1 |  1 |  1 |  1 |  1 |  1 |  1 |  1 |  1 |  1 |\n",
       "| 01_06 | -1 | -1 | -1 | -1 | -1 | -1 | -1 | -1 | -1 | -1 | ⋯ | -1 | -1 | -1 | -1 | -1 | -1 | -1 | -1 | -1 | -1 |\n",
       "| 01_07 |  1 |  1 |  1 |  1 |  1 |  1 |  1 |  1 |  1 |  1 | ⋯ | -1 | -1 | -1 | -1 | -1 | -1 | -1 | -1 | -1 | -1 |\n",
       "\n"
      ],
      "text/plain": [
       "      33070_chrI_33070_A_T 33147_chrI_33147_G_T 33152_chrI_33152_T_C\n",
       "01_01  1                    1                    1                  \n",
       "01_02  1                    1                    1                  \n",
       "01_03 -1                   -1                   -1                  \n",
       "01_04  1                    1                    1                  \n",
       "01_06 -1                   -1                   -1                  \n",
       "01_07  1                    1                    1                  \n",
       "      33200_chrI_33200_C_T 33293_chrI_33293_A_T 33328_chrI_33328_C_A\n",
       "01_01  1                    1                    1                  \n",
       "01_02  1                    1                    1                  \n",
       "01_03 -1                   -1                   -1                  \n",
       "01_04  1                    1                    1                  \n",
       "01_06 -1                   -1                   -1                  \n",
       "01_07  1                    1                    1                  \n",
       "      33348_chrI_33348_G_C 33403_chrI_33403_C_T 33502_chrI_33502_A_G\n",
       "01_01  1                    1                    1                  \n",
       "01_02  1                    1                    1                  \n",
       "01_03 -1                   -1                   -1                  \n",
       "01_04  1                    1                    1                  \n",
       "01_06 -1                   -1                   -1                  \n",
       "01_07  1                    1                    1                  \n",
       "      33548_chrI_33548_A_C ⋯ 12048853_chrXVI_925593_G_C\n",
       "01_01  1                   ⋯ -1                        \n",
       "01_02  1                   ⋯ -1                        \n",
       "01_03 -1                   ⋯  1                        \n",
       "01_04  1                   ⋯  1                        \n",
       "01_06 -1                   ⋯ -1                        \n",
       "01_07  1                   ⋯ -1                        \n",
       "      12049199_chrXVI_925939_T_C 12049441_chrXVI_926181_C_T\n",
       "01_01 -1                         -1                        \n",
       "01_02 -1                         -1                        \n",
       "01_03  1                          1                        \n",
       "01_04  1                          1                        \n",
       "01_06 -1                         -1                        \n",
       "01_07 -1                         -1                        \n",
       "      12050613_chrXVI_927353_T_G 12051167_chrXVI_927907_A_C\n",
       "01_01 -1                         -1                        \n",
       "01_02 -1                         -1                        \n",
       "01_03  1                          1                        \n",
       "01_04  1                          1                        \n",
       "01_06 -1                         -1                        \n",
       "01_07 -1                         -1                        \n",
       "      12051240_chrXVI_927980_A_G 12051367_chrXVI_928107_C_T\n",
       "01_01 -1                         -1                        \n",
       "01_02 -1                         -1                        \n",
       "01_03  1                          1                        \n",
       "01_04  1                          1                        \n",
       "01_06 -1                         -1                        \n",
       "01_07 -1                         -1                        \n",
       "      12052782_chrXVI_929522_C_T 12052988_chrXVI_929728_A_G\n",
       "01_01 -1                         -1                        \n",
       "01_02 -1                         -1                        \n",
       "01_03  1                          1                        \n",
       "01_04  1                          1                        \n",
       "01_06 -1                         -1                        \n",
       "01_07 -1                         -1                        \n",
       "      12053130_chrXVI_929870_C_T\n",
       "01_01 -1                        \n",
       "01_02 -1                        \n",
       "01_03  1                        \n",
       "01_04  1                        \n",
       "01_06 -1                        \n",
       "01_07 -1                        "
      ]
     },
     "metadata": {},
     "output_type": "display_data"
    }
   ],
   "source": [
    "head(genotype)"
   ]
  },
  {
   "cell_type": "code",
   "execution_count": 5,
   "metadata": {},
   "outputs": [
    {
     "data": {
      "text/html": [
       "'multi_pheno size: (4390, 20)'"
      ],
      "text/latex": [
       "'multi\\_pheno size: (4390, 20)'"
      ],
      "text/markdown": [
       "'multi_pheno size: (4390, 20)'"
      ],
      "text/plain": [
       "[1] \"multi_pheno size: (4390, 20)\""
      ]
     },
     "metadata": {},
     "output_type": "display_data"
    }
   ],
   "source": [
    "phenotype_file <- 'data/phenotype.csv'\n",
    "multi_pheno <- read.table(\n",
    "  file = phenotype_file,\n",
    "  sep = ',',\n",
    "  header = TRUE,\n",
    "  row.names = 1\n",
    ")\n",
    "sprintf('multi_pheno size: (%d, %d)', nrow(multi_pheno), ncol(multi_pheno))"
   ]
  },
  {
   "cell_type": "code",
   "execution_count": 6,
   "metadata": {},
   "outputs": [
    {
     "data": {
      "text/html": [
       "<table>\n",
       "<caption>A data.frame: 6 × 20</caption>\n",
       "<thead>\n",
       "\t<tr><th></th><th scope=col>X1_CobaltChloride_1</th><th scope=col>X1_CopperSulfate_1</th><th scope=col>X1_Diamide_1</th><th scope=col>X1_E6.Berbamine_1</th><th scope=col>X1_Ethanol_1</th><th scope=col>X1_Formamide_1</th><th scope=col>X1_Hydroxyurea_1</th><th scope=col>X1_IndolaceticAcid_1</th><th scope=col>X1_Lactate_1</th><th scope=col>X1_Lactose_1</th><th scope=col>X1_MagnesiumChloride_1</th><th scope=col>X1_ManganeseSulfate_1</th><th scope=col>X1_Menadione_1</th><th scope=col>X1_Neomycin_1</th><th scope=col>X1_Raffinose_1</th><th scope=col>X1_Trehalose_1</th><th scope=col>X1_Xylose_1</th><th scope=col>X1_YNB_1</th><th scope=col>X1_YPD_1</th><th scope=col>X1_Zeocin_1</th></tr>\n",
       "\t<tr><th></th><th scope=col>&lt;dbl&gt;</th><th scope=col>&lt;dbl&gt;</th><th scope=col>&lt;dbl&gt;</th><th scope=col>&lt;dbl&gt;</th><th scope=col>&lt;dbl&gt;</th><th scope=col>&lt;dbl&gt;</th><th scope=col>&lt;dbl&gt;</th><th scope=col>&lt;dbl&gt;</th><th scope=col>&lt;dbl&gt;</th><th scope=col>&lt;dbl&gt;</th><th scope=col>&lt;dbl&gt;</th><th scope=col>&lt;dbl&gt;</th><th scope=col>&lt;dbl&gt;</th><th scope=col>&lt;dbl&gt;</th><th scope=col>&lt;dbl&gt;</th><th scope=col>&lt;dbl&gt;</th><th scope=col>&lt;dbl&gt;</th><th scope=col>&lt;dbl&gt;</th><th scope=col>&lt;dbl&gt;</th><th scope=col>&lt;dbl&gt;</th></tr>\n",
       "</thead>\n",
       "<tbody>\n",
       "\t<tr><th scope=row>01_01</th><td>-2.253831</td><td>-1.5881462</td><td>0.1949297</td><td>-1.05593834</td><td>-0.2503701</td><td> 0.4982271</td><td>-0.2132440</td><td>-0.1818653</td><td>        NA</td><td>-0.84758635</td><td>-0.352480856</td><td> 1.2121624</td><td> 0.33522416</td><td>-0.6652690</td><td>-0.37046982</td><td>-0.6748265</td><td>-0.8169721</td><td>17.71107</td><td>25.87121</td><td> 0.76390775</td></tr>\n",
       "\t<tr><th scope=row>01_02</th><td>-1.887746</td><td> 0.5428723</td><td>0.4515405</td><td> 0.01159349</td><td> 0.1037188</td><td> 0.8286596</td><td> 0.6391118</td><td> 0.6608202</td><td>        NA</td><td>-0.62045976</td><td> 0.394129096</td><td>-1.9428571</td><td> 1.39795249</td><td>-0.3139357</td><td> 1.00710224</td><td> 0.4933509</td><td>-1.4124154</td><td>18.28669</td><td>26.21880</td><td> 1.27211199</td></tr>\n",
       "\t<tr><th scope=row>01_03</th><td> 1.047185</td><td> 0.4530668</td><td>0.7218348</td><td> 1.64530117</td><td> 0.4276157</td><td>-0.3261767</td><td>-0.1417717</td><td>-0.6118751</td><td>-0.7977368</td><td>-0.21919298</td><td>-0.108410797</td><td> 0.7501782</td><td>-0.91339523</td><td> 0.4199074</td><td>-0.07218847</td><td>-0.3467727</td><td> 0.1695682</td><td>15.49954</td><td>24.49684</td><td> 0.07232283</td></tr>\n",
       "\t<tr><th scope=row>01_04</th><td> 2.417437</td><td> 0.7474267</td><td>0.4545174</td><td> 1.85680865</td><td>-0.1357309</td><td> 0.5565142</td><td> 0.1972328</td><td> 0.3711080</td><td>        NA</td><td> 0.66606788</td><td> 0.021487376</td><td>-0.9172175</td><td>-0.23938559</td><td> 0.7443189</td><td> 0.03371876</td><td> 1.7741855</td><td> 0.6684001</td><td>17.30108</td><td>25.82781</td><td> 0.67644666</td></tr>\n",
       "\t<tr><th scope=row>01_06</th><td>-1.041743</td><td> 0.1803843</td><td>0.4644736</td><td>-0.96622480</td><td>-0.3380302</td><td>-0.7282211</td><td> 0.5434985</td><td>-1.8339306</td><td>-0.1702993</td><td> 0.08603016</td><td> 0.108120016</td><td>-1.2516301</td><td>-0.03877182</td><td>-0.6707914</td><td>-0.23361657</td><td>-0.1999031</td><td>-0.2834708</td><td>15.30869</td><td>25.51335</td><td> 0.99602726</td></tr>\n",
       "\t<tr><th scope=row>01_07</th><td> 1.734380</td><td> 0.4409412</td><td>0.3804743</td><td>-0.04976184</td><td> 0.2623285</td><td>-1.0056239</td><td> 0.5271231</td><td>-0.6569152</td><td>-0.3989942</td><td>-0.67089428</td><td>-0.003433968</td><td>-1.1416733</td><td>-0.92093009</td><td> 0.8349070</td><td>-0.82728217</td><td>-0.4337953</td><td> 0.9380309</td><td>15.43720</td><td>24.15441</td><td>-0.81202630</td></tr>\n",
       "</tbody>\n",
       "</table>\n"
      ],
      "text/latex": [
       "A data.frame: 6 × 20\n",
       "\\begin{tabular}{r|llllllllllllllllllll}\n",
       "  & X1\\_CobaltChloride\\_1 & X1\\_CopperSulfate\\_1 & X1\\_Diamide\\_1 & X1\\_E6.Berbamine\\_1 & X1\\_Ethanol\\_1 & X1\\_Formamide\\_1 & X1\\_Hydroxyurea\\_1 & X1\\_IndolaceticAcid\\_1 & X1\\_Lactate\\_1 & X1\\_Lactose\\_1 & X1\\_MagnesiumChloride\\_1 & X1\\_ManganeseSulfate\\_1 & X1\\_Menadione\\_1 & X1\\_Neomycin\\_1 & X1\\_Raffinose\\_1 & X1\\_Trehalose\\_1 & X1\\_Xylose\\_1 & X1\\_YNB\\_1 & X1\\_YPD\\_1 & X1\\_Zeocin\\_1\\\\\n",
       "  & <dbl> & <dbl> & <dbl> & <dbl> & <dbl> & <dbl> & <dbl> & <dbl> & <dbl> & <dbl> & <dbl> & <dbl> & <dbl> & <dbl> & <dbl> & <dbl> & <dbl> & <dbl> & <dbl> & <dbl>\\\\\n",
       "\\hline\n",
       "\t01\\_01 & -2.253831 & -1.5881462 & 0.1949297 & -1.05593834 & -0.2503701 &  0.4982271 & -0.2132440 & -0.1818653 &         NA & -0.84758635 & -0.352480856 &  1.2121624 &  0.33522416 & -0.6652690 & -0.37046982 & -0.6748265 & -0.8169721 & 17.71107 & 25.87121 &  0.76390775\\\\\n",
       "\t01\\_02 & -1.887746 &  0.5428723 & 0.4515405 &  0.01159349 &  0.1037188 &  0.8286596 &  0.6391118 &  0.6608202 &         NA & -0.62045976 &  0.394129096 & -1.9428571 &  1.39795249 & -0.3139357 &  1.00710224 &  0.4933509 & -1.4124154 & 18.28669 & 26.21880 &  1.27211199\\\\\n",
       "\t01\\_03 &  1.047185 &  0.4530668 & 0.7218348 &  1.64530117 &  0.4276157 & -0.3261767 & -0.1417717 & -0.6118751 & -0.7977368 & -0.21919298 & -0.108410797 &  0.7501782 & -0.91339523 &  0.4199074 & -0.07218847 & -0.3467727 &  0.1695682 & 15.49954 & 24.49684 &  0.07232283\\\\\n",
       "\t01\\_04 &  2.417437 &  0.7474267 & 0.4545174 &  1.85680865 & -0.1357309 &  0.5565142 &  0.1972328 &  0.3711080 &         NA &  0.66606788 &  0.021487376 & -0.9172175 & -0.23938559 &  0.7443189 &  0.03371876 &  1.7741855 &  0.6684001 & 17.30108 & 25.82781 &  0.67644666\\\\\n",
       "\t01\\_06 & -1.041743 &  0.1803843 & 0.4644736 & -0.96622480 & -0.3380302 & -0.7282211 &  0.5434985 & -1.8339306 & -0.1702993 &  0.08603016 &  0.108120016 & -1.2516301 & -0.03877182 & -0.6707914 & -0.23361657 & -0.1999031 & -0.2834708 & 15.30869 & 25.51335 &  0.99602726\\\\\n",
       "\t01\\_07 &  1.734380 &  0.4409412 & 0.3804743 & -0.04976184 &  0.2623285 & -1.0056239 &  0.5271231 & -0.6569152 & -0.3989942 & -0.67089428 & -0.003433968 & -1.1416733 & -0.92093009 &  0.8349070 & -0.82728217 & -0.4337953 &  0.9380309 & 15.43720 & 24.15441 & -0.81202630\\\\\n",
       "\\end{tabular}\n"
      ],
      "text/markdown": [
       "\n",
       "A data.frame: 6 × 20\n",
       "\n",
       "| <!--/--> | X1_CobaltChloride_1 &lt;dbl&gt; | X1_CopperSulfate_1 &lt;dbl&gt; | X1_Diamide_1 &lt;dbl&gt; | X1_E6.Berbamine_1 &lt;dbl&gt; | X1_Ethanol_1 &lt;dbl&gt; | X1_Formamide_1 &lt;dbl&gt; | X1_Hydroxyurea_1 &lt;dbl&gt; | X1_IndolaceticAcid_1 &lt;dbl&gt; | X1_Lactate_1 &lt;dbl&gt; | X1_Lactose_1 &lt;dbl&gt; | X1_MagnesiumChloride_1 &lt;dbl&gt; | X1_ManganeseSulfate_1 &lt;dbl&gt; | X1_Menadione_1 &lt;dbl&gt; | X1_Neomycin_1 &lt;dbl&gt; | X1_Raffinose_1 &lt;dbl&gt; | X1_Trehalose_1 &lt;dbl&gt; | X1_Xylose_1 &lt;dbl&gt; | X1_YNB_1 &lt;dbl&gt; | X1_YPD_1 &lt;dbl&gt; | X1_Zeocin_1 &lt;dbl&gt; |\n",
       "|---|---|---|---|---|---|---|---|---|---|---|---|---|---|---|---|---|---|---|---|---|\n",
       "| 01_01 | -2.253831 | -1.5881462 | 0.1949297 | -1.05593834 | -0.2503701 |  0.4982271 | -0.2132440 | -0.1818653 |         NA | -0.84758635 | -0.352480856 |  1.2121624 |  0.33522416 | -0.6652690 | -0.37046982 | -0.6748265 | -0.8169721 | 17.71107 | 25.87121 |  0.76390775 |\n",
       "| 01_02 | -1.887746 |  0.5428723 | 0.4515405 |  0.01159349 |  0.1037188 |  0.8286596 |  0.6391118 |  0.6608202 |         NA | -0.62045976 |  0.394129096 | -1.9428571 |  1.39795249 | -0.3139357 |  1.00710224 |  0.4933509 | -1.4124154 | 18.28669 | 26.21880 |  1.27211199 |\n",
       "| 01_03 |  1.047185 |  0.4530668 | 0.7218348 |  1.64530117 |  0.4276157 | -0.3261767 | -0.1417717 | -0.6118751 | -0.7977368 | -0.21919298 | -0.108410797 |  0.7501782 | -0.91339523 |  0.4199074 | -0.07218847 | -0.3467727 |  0.1695682 | 15.49954 | 24.49684 |  0.07232283 |\n",
       "| 01_04 |  2.417437 |  0.7474267 | 0.4545174 |  1.85680865 | -0.1357309 |  0.5565142 |  0.1972328 |  0.3711080 |         NA |  0.66606788 |  0.021487376 | -0.9172175 | -0.23938559 |  0.7443189 |  0.03371876 |  1.7741855 |  0.6684001 | 17.30108 | 25.82781 |  0.67644666 |\n",
       "| 01_06 | -1.041743 |  0.1803843 | 0.4644736 | -0.96622480 | -0.3380302 | -0.7282211 |  0.5434985 | -1.8339306 | -0.1702993 |  0.08603016 |  0.108120016 | -1.2516301 | -0.03877182 | -0.6707914 | -0.23361657 | -0.1999031 | -0.2834708 | 15.30869 | 25.51335 |  0.99602726 |\n",
       "| 01_07 |  1.734380 |  0.4409412 | 0.3804743 | -0.04976184 |  0.2623285 | -1.0056239 |  0.5271231 | -0.6569152 | -0.3989942 | -0.67089428 | -0.003433968 | -1.1416733 | -0.92093009 |  0.8349070 | -0.82728217 | -0.4337953 |  0.9380309 | 15.43720 | 24.15441 | -0.81202630 |\n",
       "\n"
      ],
      "text/plain": [
       "      X1_CobaltChloride_1 X1_CopperSulfate_1 X1_Diamide_1 X1_E6.Berbamine_1\n",
       "01_01 -2.253831           -1.5881462         0.1949297    -1.05593834      \n",
       "01_02 -1.887746            0.5428723         0.4515405     0.01159349      \n",
       "01_03  1.047185            0.4530668         0.7218348     1.64530117      \n",
       "01_04  2.417437            0.7474267         0.4545174     1.85680865      \n",
       "01_06 -1.041743            0.1803843         0.4644736    -0.96622480      \n",
       "01_07  1.734380            0.4409412         0.3804743    -0.04976184      \n",
       "      X1_Ethanol_1 X1_Formamide_1 X1_Hydroxyurea_1 X1_IndolaceticAcid_1\n",
       "01_01 -0.2503701    0.4982271     -0.2132440       -0.1818653          \n",
       "01_02  0.1037188    0.8286596      0.6391118        0.6608202          \n",
       "01_03  0.4276157   -0.3261767     -0.1417717       -0.6118751          \n",
       "01_04 -0.1357309    0.5565142      0.1972328        0.3711080          \n",
       "01_06 -0.3380302   -0.7282211      0.5434985       -1.8339306          \n",
       "01_07  0.2623285   -1.0056239      0.5271231       -0.6569152          \n",
       "      X1_Lactate_1 X1_Lactose_1 X1_MagnesiumChloride_1 X1_ManganeseSulfate_1\n",
       "01_01         NA   -0.84758635  -0.352480856            1.2121624           \n",
       "01_02         NA   -0.62045976   0.394129096           -1.9428571           \n",
       "01_03 -0.7977368   -0.21919298  -0.108410797            0.7501782           \n",
       "01_04         NA    0.66606788   0.021487376           -0.9172175           \n",
       "01_06 -0.1702993    0.08603016   0.108120016           -1.2516301           \n",
       "01_07 -0.3989942   -0.67089428  -0.003433968           -1.1416733           \n",
       "      X1_Menadione_1 X1_Neomycin_1 X1_Raffinose_1 X1_Trehalose_1 X1_Xylose_1\n",
       "01_01  0.33522416    -0.6652690    -0.37046982    -0.6748265     -0.8169721 \n",
       "01_02  1.39795249    -0.3139357     1.00710224     0.4933509     -1.4124154 \n",
       "01_03 -0.91339523     0.4199074    -0.07218847    -0.3467727      0.1695682 \n",
       "01_04 -0.23938559     0.7443189     0.03371876     1.7741855      0.6684001 \n",
       "01_06 -0.03877182    -0.6707914    -0.23361657    -0.1999031     -0.2834708 \n",
       "01_07 -0.92093009     0.8349070    -0.82728217    -0.4337953      0.9380309 \n",
       "      X1_YNB_1 X1_YPD_1 X1_Zeocin_1\n",
       "01_01 17.71107 25.87121  0.76390775\n",
       "01_02 18.28669 26.21880  1.27211199\n",
       "01_03 15.49954 24.49684  0.07232283\n",
       "01_04 17.30108 25.82781  0.67644666\n",
       "01_06 15.30869 25.51335  0.99602726\n",
       "01_07 15.43720 24.15441 -0.81202630"
      ]
     },
     "metadata": {},
     "output_type": "display_data"
    }
   ],
   "source": [
    "head(multi_pheno)"
   ]
  },
  {
   "cell_type": "code",
   "execution_count": 7,
   "metadata": {},
   "outputs": [],
   "source": [
    "X <- genotype\n",
    "Y <- multi_pheno[, 3]\n",
    "\n",
    "# take a small part to test code\n",
    "# X <- genotype[1:1000, 1:5000]\n",
    "# Y <- multi_pheno[1:1000, 1]"
   ]
  },
  {
   "cell_type": "markdown",
   "metadata": {},
   "source": [
    "# Preprocessing"
   ]
  },
  {
   "cell_type": "code",
   "execution_count": 8,
   "metadata": {},
   "outputs": [
    {
     "data": {
      "text/html": [
       "<ol class=list-inline>\n",
       "\t<li>4309</li>\n",
       "\t<li>28220</li>\n",
       "</ol>\n"
      ],
      "text/latex": [
       "\\begin{enumerate*}\n",
       "\\item 4309\n",
       "\\item 28220\n",
       "\\end{enumerate*}\n"
      ],
      "text/markdown": [
       "1. 4309\n",
       "2. 28220\n",
       "\n",
       "\n"
      ],
      "text/plain": [
       "[1]  4309 28220"
      ]
     },
     "metadata": {},
     "output_type": "display_data"
    },
    {
     "data": {
      "text/html": [
       "4309"
      ],
      "text/latex": [
       "4309"
      ],
      "text/markdown": [
       "4309"
      ],
      "text/plain": [
       "[1] 4309"
      ]
     },
     "metadata": {},
     "output_type": "display_data"
    }
   ],
   "source": [
    "# remove the gene loci with NA traits\n",
    "X <- X[!is.na(Y), ]\n",
    "Y <- Y[!is.na(Y)]\n",
    "\n",
    "dim(X)\n",
    "length(Y)"
   ]
  },
  {
   "cell_type": "code",
   "execution_count": 9,
   "metadata": {
    "scrolled": true
   },
   "outputs": [
    {
     "data": {
      "text/plain": [
       "Y\n",
       "   0    1 \n",
       "1881 2428 "
      ]
     },
     "metadata": {},
     "output_type": "display_data"
    }
   ],
   "source": [
    "# binarize\n",
    "Y[Y > 0] = 1\n",
    "Y[Y < 0] = 0\n",
    "\n",
    "table(Y)"
   ]
  },
  {
   "cell_type": "code",
   "execution_count": 10,
   "metadata": {},
   "outputs": [
    {
     "data": {
      "text/html": [
       "<ol class=list-inline>\n",
       "\t<li>3762</li>\n",
       "\t<li>28220</li>\n",
       "</ol>\n"
      ],
      "text/latex": [
       "\\begin{enumerate*}\n",
       "\\item 3762\n",
       "\\item 28220\n",
       "\\end{enumerate*}\n"
      ],
      "text/markdown": [
       "1. 3762\n",
       "2. 28220\n",
       "\n",
       "\n"
      ],
      "text/plain": [
       "[1]  3762 28220"
      ]
     },
     "metadata": {},
     "output_type": "display_data"
    },
    {
     "data": {
      "text/html": [
       "3762"
      ],
      "text/latex": [
       "3762"
      ],
      "text/markdown": [
       "3762"
      ],
      "text/plain": [
       "[1] 3762"
      ]
     },
     "metadata": {},
     "output_type": "display_data"
    }
   ],
   "source": [
    "# generate balance dataset\n",
    "majority <- 1 \n",
    "minority <- 0\n",
    "\n",
    "X_majority <- X[Y == majority, ]\n",
    "X_minority <- X[Y == minority, ]\n",
    "\n",
    "index_downsample <- sample(seq_len(length(Y[Y == majority])), length(Y[Y == minority]))\n",
    "X_downsampled <- X_majority[index_downsample,]\n",
    "\n",
    "X_balanced <- rbind(X_minority, X_downsampled)\n",
    "dim(X_balanced)\n",
    "\n",
    "Y_minority <- as.numeric(rep(minority, length(Y[Y == minority])))\n",
    "Y_majority <- as.numeric(rep(majority, length(Y[Y == minority])))\n",
    "Y_balanced <- c(Y_minority, Y_majority)\n",
    "length(Y_balanced)"
   ]
  },
  {
   "cell_type": "code",
   "execution_count": 11,
   "metadata": {},
   "outputs": [
    {
     "data": {
      "text/html": [
       "<ol class=list-inline>\n",
       "\t<li>3385</li>\n",
       "\t<li>28220</li>\n",
       "</ol>\n"
      ],
      "text/latex": [
       "\\begin{enumerate*}\n",
       "\\item 3385\n",
       "\\item 28220\n",
       "\\end{enumerate*}\n"
      ],
      "text/markdown": [
       "1. 3385\n",
       "2. 28220\n",
       "\n",
       "\n"
      ],
      "text/plain": [
       "[1]  3385 28220"
      ]
     },
     "metadata": {},
     "output_type": "display_data"
    },
    {
     "data": {
      "text/html": [
       "<ol class=list-inline>\n",
       "\t<li>377</li>\n",
       "\t<li>28220</li>\n",
       "</ol>\n"
      ],
      "text/latex": [
       "\\begin{enumerate*}\n",
       "\\item 377\n",
       "\\item 28220\n",
       "\\end{enumerate*}\n"
      ],
      "text/markdown": [
       "1. 377\n",
       "2. 28220\n",
       "\n",
       "\n"
      ],
      "text/plain": [
       "[1]   377 28220"
      ]
     },
     "metadata": {},
     "output_type": "display_data"
    }
   ],
   "source": [
    "## split train and test\n",
    "smp_size <- floor(0.9 * nrow(X_balanced))\n",
    "train_ind <- sample(seq_len(nrow(X_balanced)), size = smp_size)\n",
    "\n",
    "X_train <- X_balanced[train_ind, ]\n",
    "X_test <- X_balanced[-train_ind, ]\n",
    "Y_train <- Y_balanced[train_ind]\n",
    "Y_test <- Y_balanced[-train_ind]\n",
    "\n",
    "dim(X_train) \n",
    "dim(X_test)"
   ]
  },
  {
   "cell_type": "markdown",
   "metadata": {},
   "source": [
    "# Build model"
   ]
  },
  {
   "cell_type": "code",
   "execution_count": 12,
   "metadata": {
    "scrolled": true
   },
   "outputs": [
    {
     "data": {
      "text/html": [
       "0.00643906862697854"
      ],
      "text/latex": [
       "0.00643906862697854"
      ],
      "text/markdown": [
       "0.00643906862697854"
      ],
      "text/plain": [
       "[1] 0.006439069"
      ]
     },
     "metadata": {},
     "output_type": "display_data"
    }
   ],
   "source": [
    "# cross validation to optimize lasso\n",
    "cv_fit <- cv.glmnet(as.matrix(X_train), as.matrix(Y_train), nfolds=5, family=c(\"binomial\"))\n",
    "\n",
    "cv_fit$lambda.min"
   ]
  },
  {
   "cell_type": "code",
   "execution_count": 13,
   "metadata": {},
   "outputs": [
    {
     "data": {
      "text/plain": [
       "\n",
       "Call:  glmnet(x = as.matrix(X_train), y = as.matrix(Y_train), family = c(\"binomial\"),      alpha = 1, lambda = cv_fit$lambda.min, intercept = TRUE) \n",
       "\n",
       "      Df   %Dev   Lambda\n",
       "[1,] 271 0.4937 0.006439"
      ]
     },
     "metadata": {},
     "output_type": "display_data"
    }
   ],
   "source": [
    "Lasso_fit <- glmnet(as.matrix(X_train), as.matrix(Y_train), alpha = 1, family = c(\"binomial\"), \n",
    "    lambda = cv_fit$lambda.min, intercept = TRUE)\n",
    "\n",
    "Lasso_fit"
   ]
  },
  {
   "cell_type": "code",
   "execution_count": 14,
   "metadata": {},
   "outputs": [],
   "source": [
    "# save the model to disk\n",
    "saveRDS(Lasso_fit, \"models/Lasso_model.rds\")\n",
    "\n",
    "# Loaded_model <- readRDS(\"./Lasso_model.rds\")\n",
    "# print(Loaded_model)"
   ]
  },
  {
   "cell_type": "markdown",
   "metadata": {},
   "source": [
    "# Predict"
   ]
  },
  {
   "cell_type": "code",
   "execution_count": 15,
   "metadata": {},
   "outputs": [],
   "source": [
    "# predict\n",
    "Y_predicted <- predict(Lasso_fit, type = \"class\", newx = as.matrix(X_test))"
   ]
  },
  {
   "cell_type": "code",
   "execution_count": 16,
   "metadata": {},
   "outputs": [
    {
     "data": {
      "text/plain": [
       "Confusion Matrix and Statistics\n",
       "\n",
       "      Y_predicted\n",
       "Y_test   0   1\n",
       "     0 165  32\n",
       "     1  42 138\n",
       "                                        \n",
       "               Accuracy : 0.8037        \n",
       "                 95% CI : (0.76, 0.8426)\n",
       "    No Information Rate : 0.5491        \n",
       "    P-Value [Acc > NIR] : <2e-16        \n",
       "                                        \n",
       "                  Kappa : 0.6057        \n",
       "                                        \n",
       " Mcnemar's Test P-Value : 0.2955        \n",
       "                                        \n",
       "            Sensitivity : 0.7971        \n",
       "            Specificity : 0.8118        \n",
       "         Pos Pred Value : 0.8376        \n",
       "         Neg Pred Value : 0.7667        \n",
       "             Prevalence : 0.5491        \n",
       "         Detection Rate : 0.4377        \n",
       "   Detection Prevalence : 0.5225        \n",
       "      Balanced Accuracy : 0.8044        \n",
       "                                        \n",
       "       'Positive' Class : 0             \n",
       "                                        "
      ]
     },
     "metadata": {},
     "output_type": "display_data"
    }
   ],
   "source": [
    "confusionMatrix(table(Y_test, Y_predicted))"
   ]
  },
  {
   "cell_type": "code",
   "execution_count": null,
   "metadata": {},
   "outputs": [],
   "source": []
  }
 ],
 "metadata": {
  "kernelspec": {
   "display_name": "R",
   "language": "R",
   "name": "ir"
  },
  "language_info": {
   "codemirror_mode": "r",
   "file_extension": ".r",
   "mimetype": "text/x-r-source",
   "name": "R",
   "pygments_lexer": "r",
   "version": "3.5.1"
  },
  "toc": {
   "base_numbering": 1,
   "nav_menu": {},
   "number_sections": true,
   "sideBar": true,
   "skip_h1_title": false,
   "title_cell": "Table of Contents",
   "title_sidebar": "Contents",
   "toc_cell": true,
   "toc_position": {
    "height": "calc(100% - 180px)",
    "left": "10px",
    "top": "150px",
    "width": "201px"
   },
   "toc_section_display": true,
   "toc_window_display": true
  }
 },
 "nbformat": 4,
 "nbformat_minor": 2
}

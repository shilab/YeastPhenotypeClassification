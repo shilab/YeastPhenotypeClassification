{
 "cells": [
  {
   "cell_type": "markdown",
   "metadata": {},
   "source": [
    "# CNN model"
   ]
  },
  {
   "cell_type": "code",
   "execution_count": 1,
   "metadata": {},
   "outputs": [],
   "source": [
    "%matplotlib inline\n",
    "\n",
    "import random\n",
    "from time import time\n",
    "import gzip\n",
    "\n",
    "from matplotlib import pyplot as plt\n",
    "import pylab as pl\n",
    "import numpy as np\n",
    "import pandas as pd\n",
    "import matplotlib.cm as cm\n",
    "\n",
    "from sklearn.model_selection import train_test_split\n",
    "from sklearn.preprocessing import MinMaxScaler\n",
    "from sklearn.metrics import r2_score, mean_squared_error\n",
    "from sklearn.metrics import confusion_matrix\n",
    "from sklearn.utils import resample\n",
    "from sklearn.metrics import accuracy_score\n",
    "from sklearn.utils.multiclass import unique_labels\n",
    "\n",
    "import tensorflow as tf\n",
    "from tensorflow import keras\n",
    "from tensorflow.keras.layers import Input, Embedding, Conv1D, MaxPooling1D, AveragePooling1D, UpSampling1D\n",
    "from tensorflow.keras.layers import Dropout, BatchNormalization, Activation, Flatten, Reshape, Dense\n",
    "from tensorflow.keras.models import Model, Sequential, load_model\n",
    "from tensorflow.keras.optimizers import RMSprop\n",
    "from tensorflow.keras.regularizers import l1, l2, l1_l2\n",
    "from tensorflow.keras.utils import to_categorical\n",
    "\n",
    "# specify a seed for repeating the exactly results\n",
    "np.random.seed(seed=28213)"
   ]
  },
  {
   "cell_type": "markdown",
   "metadata": {},
   "source": [
    "# Set environment variables"
   ]
  },
  {
   "cell_type": "markdown",
   "metadata": {},
   "source": [
    "## Set number of GPUs"
   ]
  },
  {
   "cell_type": "code",
   "execution_count": 2,
   "metadata": {},
   "outputs": [],
   "source": [
    "import os\n",
    "# Set environment variables\n",
    "os.environ['CUDA_VISIBLE_DEVICES'] = '3'\n",
    "\n",
    "# On DGX-1 you might need to set the following environment variable for maximum performance:\n",
    "os.environ['NCCL_TOPOLOGY'] = 'CUBEMESH'"
   ]
  },
  {
   "cell_type": "code",
   "execution_count": 3,
   "metadata": {},
   "outputs": [
    {
     "data": {
      "text/plain": [
       "[name: \"/device:CPU:0\"\n",
       " device_type: \"CPU\"\n",
       " memory_limit: 268435456\n",
       " locality {\n",
       " }\n",
       " incarnation: 11392848910496654171, name: \"/device:XLA_CPU:0\"\n",
       " device_type: \"XLA_CPU\"\n",
       " memory_limit: 17179869184\n",
       " locality {\n",
       " }\n",
       " incarnation: 2293465396689876192\n",
       " physical_device_desc: \"device: XLA_CPU device\", name: \"/device:XLA_GPU:0\"\n",
       " device_type: \"XLA_GPU\"\n",
       " memory_limit: 17179869184\n",
       " locality {\n",
       " }\n",
       " incarnation: 8030448880683684228\n",
       " physical_device_desc: \"device: XLA_GPU device\", name: \"/device:GPU:0\"\n",
       " device_type: \"GPU\"\n",
       " memory_limit: 15567726183\n",
       " locality {\n",
       "   bus_id: 1\n",
       "   links {\n",
       "   }\n",
       " }\n",
       " incarnation: 8928112099174608762\n",
       " physical_device_desc: \"device: 0, name: Tesla V100-SXM2-16GB, pci bus id: 0000:0b:00.0, compute capability: 7.0\"]"
      ]
     },
     "execution_count": 3,
     "metadata": {},
     "output_type": "execute_result"
    }
   ],
   "source": [
    "# print out local devices visible to TensorFlow\n",
    "from tensorflow.python.client import device_lib\n",
    "device_lib.list_local_devices()"
   ]
  },
  {
   "cell_type": "markdown",
   "metadata": {},
   "source": [
    "# Load data and remove the NAs"
   ]
  },
  {
   "cell_type": "code",
   "execution_count": 4,
   "metadata": {},
   "outputs": [
    {
     "name": "stdout",
     "output_type": "stream",
     "text": [
      "genotype_file shape: (4390, 28220)\n"
     ]
    }
   ],
   "source": [
    "# load data\n",
    "genotype_file = 'data/genotype_full.txt'\n",
    "genotype = pd.read_csv(genotype_file, sep='\\t', index_col=0)\n",
    "print('genotype_file shape:', genotype.shape)"
   ]
  },
  {
   "cell_type": "code",
   "execution_count": 5,
   "metadata": {
    "scrolled": false
   },
   "outputs": [
    {
     "data": {
      "text/html": [
       "<div>\n",
       "<style scoped>\n",
       "    .dataframe tbody tr th:only-of-type {\n",
       "        vertical-align: middle;\n",
       "    }\n",
       "\n",
       "    .dataframe tbody tr th {\n",
       "        vertical-align: top;\n",
       "    }\n",
       "\n",
       "    .dataframe thead th {\n",
       "        text-align: right;\n",
       "    }\n",
       "</style>\n",
       "<table border=\"1\" class=\"dataframe\">\n",
       "  <thead>\n",
       "    <tr style=\"text-align: right;\">\n",
       "      <th></th>\n",
       "      <th>33070_chrI_33070_A_T</th>\n",
       "      <th>33147_chrI_33147_G_T</th>\n",
       "      <th>33152_chrI_33152_T_C</th>\n",
       "      <th>33200_chrI_33200_C_T</th>\n",
       "      <th>33293_chrI_33293_A_T</th>\n",
       "      <th>33328_chrI_33328_C_A</th>\n",
       "      <th>33348_chrI_33348_G_C</th>\n",
       "      <th>33403_chrI_33403_C_T</th>\n",
       "      <th>33502_chrI_33502_A_G</th>\n",
       "      <th>33548_chrI_33548_A_C</th>\n",
       "      <th>...</th>\n",
       "      <th>12048853_chrXVI_925593_G_C</th>\n",
       "      <th>12049199_chrXVI_925939_T_C</th>\n",
       "      <th>12049441_chrXVI_926181_C_T</th>\n",
       "      <th>12050613_chrXVI_927353_T_G</th>\n",
       "      <th>12051167_chrXVI_927907_A_C</th>\n",
       "      <th>12051240_chrXVI_927980_A_G</th>\n",
       "      <th>12051367_chrXVI_928107_C_T</th>\n",
       "      <th>12052782_chrXVI_929522_C_T</th>\n",
       "      <th>12052988_chrXVI_929728_A_G</th>\n",
       "      <th>12053130_chrXVI_929870_C_T</th>\n",
       "    </tr>\n",
       "    <tr>\n",
       "      <th>SAMID</th>\n",
       "      <th></th>\n",
       "      <th></th>\n",
       "      <th></th>\n",
       "      <th></th>\n",
       "      <th></th>\n",
       "      <th></th>\n",
       "      <th></th>\n",
       "      <th></th>\n",
       "      <th></th>\n",
       "      <th></th>\n",
       "      <th></th>\n",
       "      <th></th>\n",
       "      <th></th>\n",
       "      <th></th>\n",
       "      <th></th>\n",
       "      <th></th>\n",
       "      <th></th>\n",
       "      <th></th>\n",
       "      <th></th>\n",
       "      <th></th>\n",
       "      <th></th>\n",
       "    </tr>\n",
       "  </thead>\n",
       "  <tbody>\n",
       "    <tr>\n",
       "      <th>01_01</th>\n",
       "      <td>1</td>\n",
       "      <td>1</td>\n",
       "      <td>1</td>\n",
       "      <td>1</td>\n",
       "      <td>1</td>\n",
       "      <td>1</td>\n",
       "      <td>1</td>\n",
       "      <td>1</td>\n",
       "      <td>1</td>\n",
       "      <td>1</td>\n",
       "      <td>...</td>\n",
       "      <td>0</td>\n",
       "      <td>0</td>\n",
       "      <td>0</td>\n",
       "      <td>0</td>\n",
       "      <td>0</td>\n",
       "      <td>0</td>\n",
       "      <td>0</td>\n",
       "      <td>0</td>\n",
       "      <td>0</td>\n",
       "      <td>0</td>\n",
       "    </tr>\n",
       "    <tr>\n",
       "      <th>01_02</th>\n",
       "      <td>1</td>\n",
       "      <td>1</td>\n",
       "      <td>1</td>\n",
       "      <td>1</td>\n",
       "      <td>1</td>\n",
       "      <td>1</td>\n",
       "      <td>1</td>\n",
       "      <td>1</td>\n",
       "      <td>1</td>\n",
       "      <td>1</td>\n",
       "      <td>...</td>\n",
       "      <td>0</td>\n",
       "      <td>0</td>\n",
       "      <td>0</td>\n",
       "      <td>0</td>\n",
       "      <td>0</td>\n",
       "      <td>0</td>\n",
       "      <td>0</td>\n",
       "      <td>0</td>\n",
       "      <td>0</td>\n",
       "      <td>0</td>\n",
       "    </tr>\n",
       "    <tr>\n",
       "      <th>01_03</th>\n",
       "      <td>0</td>\n",
       "      <td>0</td>\n",
       "      <td>0</td>\n",
       "      <td>0</td>\n",
       "      <td>0</td>\n",
       "      <td>0</td>\n",
       "      <td>0</td>\n",
       "      <td>0</td>\n",
       "      <td>0</td>\n",
       "      <td>0</td>\n",
       "      <td>...</td>\n",
       "      <td>1</td>\n",
       "      <td>1</td>\n",
       "      <td>1</td>\n",
       "      <td>1</td>\n",
       "      <td>1</td>\n",
       "      <td>1</td>\n",
       "      <td>1</td>\n",
       "      <td>1</td>\n",
       "      <td>1</td>\n",
       "      <td>1</td>\n",
       "    </tr>\n",
       "    <tr>\n",
       "      <th>01_04</th>\n",
       "      <td>1</td>\n",
       "      <td>1</td>\n",
       "      <td>1</td>\n",
       "      <td>1</td>\n",
       "      <td>1</td>\n",
       "      <td>1</td>\n",
       "      <td>1</td>\n",
       "      <td>1</td>\n",
       "      <td>1</td>\n",
       "      <td>1</td>\n",
       "      <td>...</td>\n",
       "      <td>1</td>\n",
       "      <td>1</td>\n",
       "      <td>1</td>\n",
       "      <td>1</td>\n",
       "      <td>1</td>\n",
       "      <td>1</td>\n",
       "      <td>1</td>\n",
       "      <td>1</td>\n",
       "      <td>1</td>\n",
       "      <td>1</td>\n",
       "    </tr>\n",
       "    <tr>\n",
       "      <th>01_06</th>\n",
       "      <td>0</td>\n",
       "      <td>0</td>\n",
       "      <td>0</td>\n",
       "      <td>0</td>\n",
       "      <td>0</td>\n",
       "      <td>0</td>\n",
       "      <td>0</td>\n",
       "      <td>0</td>\n",
       "      <td>0</td>\n",
       "      <td>0</td>\n",
       "      <td>...</td>\n",
       "      <td>0</td>\n",
       "      <td>0</td>\n",
       "      <td>0</td>\n",
       "      <td>0</td>\n",
       "      <td>0</td>\n",
       "      <td>0</td>\n",
       "      <td>0</td>\n",
       "      <td>0</td>\n",
       "      <td>0</td>\n",
       "      <td>0</td>\n",
       "    </tr>\n",
       "  </tbody>\n",
       "</table>\n",
       "<p>5 rows × 28220 columns</p>\n",
       "</div>"
      ],
      "text/plain": [
       "       33070_chrI_33070_A_T  33147_chrI_33147_G_T  33152_chrI_33152_T_C  \\\n",
       "SAMID                                                                     \n",
       "01_01                     1                     1                     1   \n",
       "01_02                     1                     1                     1   \n",
       "01_03                     0                     0                     0   \n",
       "01_04                     1                     1                     1   \n",
       "01_06                     0                     0                     0   \n",
       "\n",
       "       33200_chrI_33200_C_T  33293_chrI_33293_A_T  33328_chrI_33328_C_A  \\\n",
       "SAMID                                                                     \n",
       "01_01                     1                     1                     1   \n",
       "01_02                     1                     1                     1   \n",
       "01_03                     0                     0                     0   \n",
       "01_04                     1                     1                     1   \n",
       "01_06                     0                     0                     0   \n",
       "\n",
       "       33348_chrI_33348_G_C  33403_chrI_33403_C_T  33502_chrI_33502_A_G  \\\n",
       "SAMID                                                                     \n",
       "01_01                     1                     1                     1   \n",
       "01_02                     1                     1                     1   \n",
       "01_03                     0                     0                     0   \n",
       "01_04                     1                     1                     1   \n",
       "01_06                     0                     0                     0   \n",
       "\n",
       "       33548_chrI_33548_A_C             ...              \\\n",
       "SAMID                                   ...               \n",
       "01_01                     1             ...               \n",
       "01_02                     1             ...               \n",
       "01_03                     0             ...               \n",
       "01_04                     1             ...               \n",
       "01_06                     0             ...               \n",
       "\n",
       "       12048853_chrXVI_925593_G_C  12049199_chrXVI_925939_T_C  \\\n",
       "SAMID                                                           \n",
       "01_01                           0                           0   \n",
       "01_02                           0                           0   \n",
       "01_03                           1                           1   \n",
       "01_04                           1                           1   \n",
       "01_06                           0                           0   \n",
       "\n",
       "       12049441_chrXVI_926181_C_T  12050613_chrXVI_927353_T_G  \\\n",
       "SAMID                                                           \n",
       "01_01                           0                           0   \n",
       "01_02                           0                           0   \n",
       "01_03                           1                           1   \n",
       "01_04                           1                           1   \n",
       "01_06                           0                           0   \n",
       "\n",
       "       12051167_chrXVI_927907_A_C  12051240_chrXVI_927980_A_G  \\\n",
       "SAMID                                                           \n",
       "01_01                           0                           0   \n",
       "01_02                           0                           0   \n",
       "01_03                           1                           1   \n",
       "01_04                           1                           1   \n",
       "01_06                           0                           0   \n",
       "\n",
       "       12051367_chrXVI_928107_C_T  12052782_chrXVI_929522_C_T  \\\n",
       "SAMID                                                           \n",
       "01_01                           0                           0   \n",
       "01_02                           0                           0   \n",
       "01_03                           1                           1   \n",
       "01_04                           1                           1   \n",
       "01_06                           0                           0   \n",
       "\n",
       "       12052988_chrXVI_929728_A_G  12053130_chrXVI_929870_C_T  \n",
       "SAMID                                                          \n",
       "01_01                           0                           0  \n",
       "01_02                           0                           0  \n",
       "01_03                           1                           1  \n",
       "01_04                           1                           1  \n",
       "01_06                           0                           0  \n",
       "\n",
       "[5 rows x 28220 columns]"
      ]
     },
     "execution_count": 5,
     "metadata": {},
     "output_type": "execute_result"
    }
   ],
   "source": [
    "genotype[genotype == -1] = 0\n",
    "genotype.head()"
   ]
  },
  {
   "cell_type": "code",
   "execution_count": 6,
   "metadata": {},
   "outputs": [
    {
     "name": "stdout",
     "output_type": "stream",
     "text": [
      "phenotype_multi shape: (4390, 20)\n"
     ]
    }
   ],
   "source": [
    "# phenotype\n",
    "phenotype_file = 'data/phenotype.csv'\n",
    "multi_pheno = pd.read_csv(phenotype_file, sep=',', index_col=0)\n",
    "print('phenotype_multi shape:', multi_pheno.shape)"
   ]
  },
  {
   "cell_type": "code",
   "execution_count": 7,
   "metadata": {},
   "outputs": [
    {
     "data": {
      "text/html": [
       "<div>\n",
       "<style scoped>\n",
       "    .dataframe tbody tr th:only-of-type {\n",
       "        vertical-align: middle;\n",
       "    }\n",
       "\n",
       "    .dataframe tbody tr th {\n",
       "        vertical-align: top;\n",
       "    }\n",
       "\n",
       "    .dataframe thead th {\n",
       "        text-align: right;\n",
       "    }\n",
       "</style>\n",
       "<table border=\"1\" class=\"dataframe\">\n",
       "  <thead>\n",
       "    <tr style=\"text-align: right;\">\n",
       "      <th></th>\n",
       "      <th>1_CobaltChloride_1</th>\n",
       "      <th>1_CopperSulfate_1</th>\n",
       "      <th>1_Diamide_1</th>\n",
       "      <th>1_E6-Berbamine_1</th>\n",
       "      <th>1_Ethanol_1</th>\n",
       "      <th>1_Formamide_1</th>\n",
       "      <th>1_Hydroxyurea_1</th>\n",
       "      <th>1_IndolaceticAcid_1</th>\n",
       "      <th>1_Lactate_1</th>\n",
       "      <th>1_Lactose_1</th>\n",
       "      <th>1_MagnesiumChloride_1</th>\n",
       "      <th>1_ManganeseSulfate_1</th>\n",
       "      <th>1_Menadione_1</th>\n",
       "      <th>1_Neomycin_1</th>\n",
       "      <th>1_Raffinose_1</th>\n",
       "      <th>1_Trehalose_1</th>\n",
       "      <th>1_Xylose_1</th>\n",
       "      <th>1_YNB_1</th>\n",
       "      <th>1_YPD_1</th>\n",
       "      <th>1_Zeocin_1</th>\n",
       "    </tr>\n",
       "  </thead>\n",
       "  <tbody>\n",
       "    <tr>\n",
       "      <th>01_01</th>\n",
       "      <td>-2.253831</td>\n",
       "      <td>-1.588146</td>\n",
       "      <td>0.194930</td>\n",
       "      <td>-1.055938</td>\n",
       "      <td>-0.250370</td>\n",
       "      <td>0.498227</td>\n",
       "      <td>-0.213244</td>\n",
       "      <td>-0.181865</td>\n",
       "      <td>NaN</td>\n",
       "      <td>-0.847586</td>\n",
       "      <td>-0.352481</td>\n",
       "      <td>1.212162</td>\n",
       "      <td>0.335224</td>\n",
       "      <td>-0.665269</td>\n",
       "      <td>-0.370470</td>\n",
       "      <td>-0.674826</td>\n",
       "      <td>-0.816972</td>\n",
       "      <td>17.711068</td>\n",
       "      <td>25.871208</td>\n",
       "      <td>0.763908</td>\n",
       "    </tr>\n",
       "    <tr>\n",
       "      <th>01_02</th>\n",
       "      <td>-1.887746</td>\n",
       "      <td>0.542872</td>\n",
       "      <td>0.451540</td>\n",
       "      <td>0.011593</td>\n",
       "      <td>0.103719</td>\n",
       "      <td>0.828660</td>\n",
       "      <td>0.639112</td>\n",
       "      <td>0.660820</td>\n",
       "      <td>NaN</td>\n",
       "      <td>-0.620460</td>\n",
       "      <td>0.394129</td>\n",
       "      <td>-1.942857</td>\n",
       "      <td>1.397952</td>\n",
       "      <td>-0.313936</td>\n",
       "      <td>1.007102</td>\n",
       "      <td>0.493351</td>\n",
       "      <td>-1.412415</td>\n",
       "      <td>18.286691</td>\n",
       "      <td>26.218803</td>\n",
       "      <td>1.272112</td>\n",
       "    </tr>\n",
       "    <tr>\n",
       "      <th>01_03</th>\n",
       "      <td>1.047185</td>\n",
       "      <td>0.453067</td>\n",
       "      <td>0.721835</td>\n",
       "      <td>1.645301</td>\n",
       "      <td>0.427616</td>\n",
       "      <td>-0.326177</td>\n",
       "      <td>-0.141772</td>\n",
       "      <td>-0.611875</td>\n",
       "      <td>-0.797737</td>\n",
       "      <td>-0.219193</td>\n",
       "      <td>-0.108411</td>\n",
       "      <td>0.750178</td>\n",
       "      <td>-0.913395</td>\n",
       "      <td>0.419907</td>\n",
       "      <td>-0.072188</td>\n",
       "      <td>-0.346773</td>\n",
       "      <td>0.169568</td>\n",
       "      <td>15.499536</td>\n",
       "      <td>24.496840</td>\n",
       "      <td>0.072323</td>\n",
       "    </tr>\n",
       "    <tr>\n",
       "      <th>01_04</th>\n",
       "      <td>2.417437</td>\n",
       "      <td>0.747427</td>\n",
       "      <td>0.454517</td>\n",
       "      <td>1.856809</td>\n",
       "      <td>-0.135731</td>\n",
       "      <td>0.556514</td>\n",
       "      <td>0.197233</td>\n",
       "      <td>0.371108</td>\n",
       "      <td>NaN</td>\n",
       "      <td>0.666068</td>\n",
       "      <td>0.021487</td>\n",
       "      <td>-0.917218</td>\n",
       "      <td>-0.239386</td>\n",
       "      <td>0.744319</td>\n",
       "      <td>0.033719</td>\n",
       "      <td>1.774186</td>\n",
       "      <td>0.668400</td>\n",
       "      <td>17.301076</td>\n",
       "      <td>25.827809</td>\n",
       "      <td>0.676447</td>\n",
       "    </tr>\n",
       "    <tr>\n",
       "      <th>01_06</th>\n",
       "      <td>-1.041743</td>\n",
       "      <td>0.180384</td>\n",
       "      <td>0.464474</td>\n",
       "      <td>-0.966225</td>\n",
       "      <td>-0.338030</td>\n",
       "      <td>-0.728221</td>\n",
       "      <td>0.543498</td>\n",
       "      <td>-1.833931</td>\n",
       "      <td>-0.170299</td>\n",
       "      <td>0.086030</td>\n",
       "      <td>0.108120</td>\n",
       "      <td>-1.251630</td>\n",
       "      <td>-0.038772</td>\n",
       "      <td>-0.670791</td>\n",
       "      <td>-0.233617</td>\n",
       "      <td>-0.199903</td>\n",
       "      <td>-0.283471</td>\n",
       "      <td>15.308695</td>\n",
       "      <td>25.513351</td>\n",
       "      <td>0.996027</td>\n",
       "    </tr>\n",
       "  </tbody>\n",
       "</table>\n",
       "</div>"
      ],
      "text/plain": [
       "       1_CobaltChloride_1  1_CopperSulfate_1  1_Diamide_1  1_E6-Berbamine_1  \\\n",
       "01_01           -2.253831          -1.588146     0.194930         -1.055938   \n",
       "01_02           -1.887746           0.542872     0.451540          0.011593   \n",
       "01_03            1.047185           0.453067     0.721835          1.645301   \n",
       "01_04            2.417437           0.747427     0.454517          1.856809   \n",
       "01_06           -1.041743           0.180384     0.464474         -0.966225   \n",
       "\n",
       "       1_Ethanol_1  1_Formamide_1  1_Hydroxyurea_1  1_IndolaceticAcid_1  \\\n",
       "01_01    -0.250370       0.498227        -0.213244            -0.181865   \n",
       "01_02     0.103719       0.828660         0.639112             0.660820   \n",
       "01_03     0.427616      -0.326177        -0.141772            -0.611875   \n",
       "01_04    -0.135731       0.556514         0.197233             0.371108   \n",
       "01_06    -0.338030      -0.728221         0.543498            -1.833931   \n",
       "\n",
       "       1_Lactate_1  1_Lactose_1  1_MagnesiumChloride_1  1_ManganeseSulfate_1  \\\n",
       "01_01          NaN    -0.847586              -0.352481              1.212162   \n",
       "01_02          NaN    -0.620460               0.394129             -1.942857   \n",
       "01_03    -0.797737    -0.219193              -0.108411              0.750178   \n",
       "01_04          NaN     0.666068               0.021487             -0.917218   \n",
       "01_06    -0.170299     0.086030               0.108120             -1.251630   \n",
       "\n",
       "       1_Menadione_1  1_Neomycin_1  1_Raffinose_1  1_Trehalose_1  1_Xylose_1  \\\n",
       "01_01       0.335224     -0.665269      -0.370470      -0.674826   -0.816972   \n",
       "01_02       1.397952     -0.313936       1.007102       0.493351   -1.412415   \n",
       "01_03      -0.913395      0.419907      -0.072188      -0.346773    0.169568   \n",
       "01_04      -0.239386      0.744319       0.033719       1.774186    0.668400   \n",
       "01_06      -0.038772     -0.670791      -0.233617      -0.199903   -0.283471   \n",
       "\n",
       "         1_YNB_1    1_YPD_1  1_Zeocin_1  \n",
       "01_01  17.711068  25.871208    0.763908  \n",
       "01_02  18.286691  26.218803    1.272112  \n",
       "01_03  15.499536  24.496840    0.072323  \n",
       "01_04  17.301076  25.827809    0.676447  \n",
       "01_06  15.308695  25.513351    0.996027  "
      ]
     },
     "execution_count": 7,
     "metadata": {},
     "output_type": "execute_result"
    }
   ],
   "source": [
    "multi_pheno.head()"
   ]
  },
  {
   "cell_type": "code",
   "execution_count": 8,
   "metadata": {},
   "outputs": [],
   "source": [
    "X = genotype\n",
    "Y = multi_pheno.iloc[:, 2]\n",
    "\n",
    "# take a small part to test code\n",
    "# X = genotype.iloc[:, 0:10000]\n",
    "# Y = multi_pheno.iloc[:, 2]"
   ]
  },
  {
   "cell_type": "code",
   "execution_count": 9,
   "metadata": {},
   "outputs": [
    {
     "data": {
      "text/plain": [
       "((4309, 28220), (4309,))"
      ]
     },
     "execution_count": 9,
     "metadata": {},
     "output_type": "execute_result"
    }
   ],
   "source": [
    "# move the gene loci with NA traits\n",
    "X = X[~Y.isna()]\n",
    "Y = Y[~Y.isna()]\n",
    "\n",
    "X.shape, Y.shape"
   ]
  },
  {
   "cell_type": "code",
   "execution_count": 10,
   "metadata": {},
   "outputs": [
    {
     "data": {
      "text/plain": [
       "01_01    1\n",
       "01_02    1\n",
       "01_03    1\n",
       "01_04    1\n",
       "01_06    1\n",
       "Name: 1_Diamide_1, dtype: int64"
      ]
     },
     "execution_count": 10,
     "metadata": {},
     "output_type": "execute_result"
    }
   ],
   "source": [
    "# binarize\n",
    "Y[Y > 0] = 1\n",
    "Y[Y < 0] = 0\n",
    "\n",
    "Y = Y.astype('int')\n",
    "Y.head()"
   ]
  },
  {
   "cell_type": "code",
   "execution_count": 11,
   "metadata": {},
   "outputs": [
    {
     "data": {
      "text/plain": [
       "(2428, 1881)"
      ]
     },
     "execution_count": 11,
     "metadata": {},
     "output_type": "execute_result"
    }
   ],
   "source": [
    "len(Y[Y == 1]), len(Y[Y == 0])"
   ]
  },
  {
   "cell_type": "markdown",
   "metadata": {},
   "source": [
    "# Prepare data "
   ]
  },
  {
   "cell_type": "markdown",
   "metadata": {},
   "source": [
    "## downsampling "
   ]
  },
  {
   "cell_type": "code",
   "execution_count": 12,
   "metadata": {},
   "outputs": [],
   "source": [
    "majority = 1 \n",
    "minority = 0"
   ]
  },
  {
   "cell_type": "code",
   "execution_count": 13,
   "metadata": {},
   "outputs": [
    {
     "data": {
      "text/plain": [
       "(1881, 28220)"
      ]
     },
     "execution_count": 13,
     "metadata": {},
     "output_type": "execute_result"
    }
   ],
   "source": [
    "# downsampled majority\n",
    "majority_downsampled = resample(X.loc[Y[Y == majority].index],\n",
    "                                replace=True,       \n",
    "                                n_samples=len(Y[Y == minority]), # match number in majority class\n",
    "                                random_state=27) # reproducible results\n",
    "\n",
    "majority_downsampled.shape"
   ]
  },
  {
   "cell_type": "code",
   "execution_count": 14,
   "metadata": {},
   "outputs": [
    {
     "data": {
      "text/html": [
       "<div>\n",
       "<style scoped>\n",
       "    .dataframe tbody tr th:only-of-type {\n",
       "        vertical-align: middle;\n",
       "    }\n",
       "\n",
       "    .dataframe tbody tr th {\n",
       "        vertical-align: top;\n",
       "    }\n",
       "\n",
       "    .dataframe thead th {\n",
       "        text-align: right;\n",
       "    }\n",
       "</style>\n",
       "<table border=\"1\" class=\"dataframe\">\n",
       "  <thead>\n",
       "    <tr style=\"text-align: right;\">\n",
       "      <th></th>\n",
       "      <th>33070_chrI_33070_A_T</th>\n",
       "      <th>33147_chrI_33147_G_T</th>\n",
       "      <th>33152_chrI_33152_T_C</th>\n",
       "      <th>33200_chrI_33200_C_T</th>\n",
       "      <th>33293_chrI_33293_A_T</th>\n",
       "      <th>33328_chrI_33328_C_A</th>\n",
       "      <th>33348_chrI_33348_G_C</th>\n",
       "      <th>33403_chrI_33403_C_T</th>\n",
       "      <th>33502_chrI_33502_A_G</th>\n",
       "      <th>33548_chrI_33548_A_C</th>\n",
       "      <th>...</th>\n",
       "      <th>12048853_chrXVI_925593_G_C</th>\n",
       "      <th>12049199_chrXVI_925939_T_C</th>\n",
       "      <th>12049441_chrXVI_926181_C_T</th>\n",
       "      <th>12050613_chrXVI_927353_T_G</th>\n",
       "      <th>12051167_chrXVI_927907_A_C</th>\n",
       "      <th>12051240_chrXVI_927980_A_G</th>\n",
       "      <th>12051367_chrXVI_928107_C_T</th>\n",
       "      <th>12052782_chrXVI_929522_C_T</th>\n",
       "      <th>12052988_chrXVI_929728_A_G</th>\n",
       "      <th>12053130_chrXVI_929870_C_T</th>\n",
       "    </tr>\n",
       "  </thead>\n",
       "  <tbody>\n",
       "    <tr>\n",
       "      <th>01_23</th>\n",
       "      <td>0</td>\n",
       "      <td>0</td>\n",
       "      <td>0</td>\n",
       "      <td>0</td>\n",
       "      <td>0</td>\n",
       "      <td>0</td>\n",
       "      <td>0</td>\n",
       "      <td>0</td>\n",
       "      <td>0</td>\n",
       "      <td>0</td>\n",
       "      <td>...</td>\n",
       "      <td>0</td>\n",
       "      <td>0</td>\n",
       "      <td>0</td>\n",
       "      <td>0</td>\n",
       "      <td>0</td>\n",
       "      <td>0</td>\n",
       "      <td>0</td>\n",
       "      <td>0</td>\n",
       "      <td>0</td>\n",
       "      <td>0</td>\n",
       "    </tr>\n",
       "    <tr>\n",
       "      <th>01_26</th>\n",
       "      <td>0</td>\n",
       "      <td>0</td>\n",
       "      <td>0</td>\n",
       "      <td>0</td>\n",
       "      <td>0</td>\n",
       "      <td>0</td>\n",
       "      <td>0</td>\n",
       "      <td>0</td>\n",
       "      <td>0</td>\n",
       "      <td>0</td>\n",
       "      <td>...</td>\n",
       "      <td>1</td>\n",
       "      <td>1</td>\n",
       "      <td>1</td>\n",
       "      <td>1</td>\n",
       "      <td>1</td>\n",
       "      <td>1</td>\n",
       "      <td>1</td>\n",
       "      <td>1</td>\n",
       "      <td>1</td>\n",
       "      <td>1</td>\n",
       "    </tr>\n",
       "    <tr>\n",
       "      <th>01_33</th>\n",
       "      <td>0</td>\n",
       "      <td>0</td>\n",
       "      <td>0</td>\n",
       "      <td>0</td>\n",
       "      <td>0</td>\n",
       "      <td>0</td>\n",
       "      <td>0</td>\n",
       "      <td>0</td>\n",
       "      <td>0</td>\n",
       "      <td>0</td>\n",
       "      <td>...</td>\n",
       "      <td>1</td>\n",
       "      <td>1</td>\n",
       "      <td>1</td>\n",
       "      <td>1</td>\n",
       "      <td>1</td>\n",
       "      <td>1</td>\n",
       "      <td>1</td>\n",
       "      <td>1</td>\n",
       "      <td>1</td>\n",
       "      <td>1</td>\n",
       "    </tr>\n",
       "    <tr>\n",
       "      <th>01_36</th>\n",
       "      <td>1</td>\n",
       "      <td>1</td>\n",
       "      <td>1</td>\n",
       "      <td>1</td>\n",
       "      <td>1</td>\n",
       "      <td>1</td>\n",
       "      <td>1</td>\n",
       "      <td>1</td>\n",
       "      <td>1</td>\n",
       "      <td>1</td>\n",
       "      <td>...</td>\n",
       "      <td>0</td>\n",
       "      <td>0</td>\n",
       "      <td>0</td>\n",
       "      <td>0</td>\n",
       "      <td>0</td>\n",
       "      <td>0</td>\n",
       "      <td>0</td>\n",
       "      <td>0</td>\n",
       "      <td>0</td>\n",
       "      <td>0</td>\n",
       "    </tr>\n",
       "    <tr>\n",
       "      <th>01_39</th>\n",
       "      <td>0</td>\n",
       "      <td>0</td>\n",
       "      <td>0</td>\n",
       "      <td>0</td>\n",
       "      <td>0</td>\n",
       "      <td>0</td>\n",
       "      <td>0</td>\n",
       "      <td>0</td>\n",
       "      <td>0</td>\n",
       "      <td>0</td>\n",
       "      <td>...</td>\n",
       "      <td>0</td>\n",
       "      <td>0</td>\n",
       "      <td>0</td>\n",
       "      <td>0</td>\n",
       "      <td>0</td>\n",
       "      <td>0</td>\n",
       "      <td>0</td>\n",
       "      <td>0</td>\n",
       "      <td>0</td>\n",
       "      <td>0</td>\n",
       "    </tr>\n",
       "  </tbody>\n",
       "</table>\n",
       "<p>5 rows × 28220 columns</p>\n",
       "</div>"
      ],
      "text/plain": [
       "       33070_chrI_33070_A_T  33147_chrI_33147_G_T  33152_chrI_33152_T_C  \\\n",
       "01_23                     0                     0                     0   \n",
       "01_26                     0                     0                     0   \n",
       "01_33                     0                     0                     0   \n",
       "01_36                     1                     1                     1   \n",
       "01_39                     0                     0                     0   \n",
       "\n",
       "       33200_chrI_33200_C_T  33293_chrI_33293_A_T  33328_chrI_33328_C_A  \\\n",
       "01_23                     0                     0                     0   \n",
       "01_26                     0                     0                     0   \n",
       "01_33                     0                     0                     0   \n",
       "01_36                     1                     1                     1   \n",
       "01_39                     0                     0                     0   \n",
       "\n",
       "       33348_chrI_33348_G_C  33403_chrI_33403_C_T  33502_chrI_33502_A_G  \\\n",
       "01_23                     0                     0                     0   \n",
       "01_26                     0                     0                     0   \n",
       "01_33                     0                     0                     0   \n",
       "01_36                     1                     1                     1   \n",
       "01_39                     0                     0                     0   \n",
       "\n",
       "       33548_chrI_33548_A_C             ...              \\\n",
       "01_23                     0             ...               \n",
       "01_26                     0             ...               \n",
       "01_33                     0             ...               \n",
       "01_36                     1             ...               \n",
       "01_39                     0             ...               \n",
       "\n",
       "       12048853_chrXVI_925593_G_C  12049199_chrXVI_925939_T_C  \\\n",
       "01_23                           0                           0   \n",
       "01_26                           1                           1   \n",
       "01_33                           1                           1   \n",
       "01_36                           0                           0   \n",
       "01_39                           0                           0   \n",
       "\n",
       "       12049441_chrXVI_926181_C_T  12050613_chrXVI_927353_T_G  \\\n",
       "01_23                           0                           0   \n",
       "01_26                           1                           1   \n",
       "01_33                           1                           1   \n",
       "01_36                           0                           0   \n",
       "01_39                           0                           0   \n",
       "\n",
       "       12051167_chrXVI_927907_A_C  12051240_chrXVI_927980_A_G  \\\n",
       "01_23                           0                           0   \n",
       "01_26                           1                           1   \n",
       "01_33                           1                           1   \n",
       "01_36                           0                           0   \n",
       "01_39                           0                           0   \n",
       "\n",
       "       12051367_chrXVI_928107_C_T  12052782_chrXVI_929522_C_T  \\\n",
       "01_23                           0                           0   \n",
       "01_26                           1                           1   \n",
       "01_33                           1                           1   \n",
       "01_36                           0                           0   \n",
       "01_39                           0                           0   \n",
       "\n",
       "       12052988_chrXVI_929728_A_G  12053130_chrXVI_929870_C_T  \n",
       "01_23                           0                           0  \n",
       "01_26                           1                           1  \n",
       "01_33                           1                           1  \n",
       "01_36                           0                           0  \n",
       "01_39                           0                           0  \n",
       "\n",
       "[5 rows x 28220 columns]"
      ]
     },
     "execution_count": 14,
     "metadata": {},
     "output_type": "execute_result"
    }
   ],
   "source": [
    "X_balanced = pd.concat([X.loc[Y[Y == minority].index], majority_downsampled])\n",
    "\n",
    "X_balanced.head()"
   ]
  },
  {
   "cell_type": "code",
   "execution_count": 15,
   "metadata": {},
   "outputs": [
    {
     "data": {
      "text/plain": [
       "3762"
      ]
     },
     "execution_count": 15,
     "metadata": {},
     "output_type": "execute_result"
    }
   ],
   "source": [
    "Y_balanced=np.asarray([1]*len(Y[Y == minority])+[0]*len(Y[Y == minority]))\n",
    "\n",
    "len(Y_balanced)"
   ]
  },
  {
   "cell_type": "markdown",
   "metadata": {},
   "source": [
    "## One-hot encoding"
   ]
  },
  {
   "cell_type": "code",
   "execution_count": 16,
   "metadata": {},
   "outputs": [
    {
     "data": {
      "text/plain": [
       "(3762, 28220, 2)"
      ]
     },
     "execution_count": 16,
     "metadata": {},
     "output_type": "execute_result"
    }
   ],
   "source": [
    "X_onehot = to_categorical(X_balanced)\n",
    "\n",
    "X_onehot.shape"
   ]
  },
  {
   "cell_type": "markdown",
   "metadata": {},
   "source": [
    "## Split train and test"
   ]
  },
  {
   "cell_type": "code",
   "execution_count": 17,
   "metadata": {},
   "outputs": [
    {
     "data": {
      "text/plain": [
       "((3385, 28220, 2), (377, 28220, 2), (3385,), (377,))"
      ]
     },
     "execution_count": 17,
     "metadata": {},
     "output_type": "execute_result"
    }
   ],
   "source": [
    "# split df to train and valid\n",
    "X_train, X_test, Y_train, Y_test = train_test_split(\n",
    "    X_onehot, Y_balanced, test_size=0.1)\n",
    "\n",
    "X_train.shape, X_test.shape, Y_train.shape, Y_test.shape"
   ]
  },
  {
   "cell_type": "code",
   "execution_count": 18,
   "metadata": {},
   "outputs": [
    {
     "data": {
      "text/plain": [
       "((3046, 28220, 2), (339, 28220, 2), (3046,), (339,))"
      ]
     },
     "execution_count": 18,
     "metadata": {},
     "output_type": "execute_result"
    }
   ],
   "source": [
    "# split df to train and valid\n",
    "X_train, X_valid, Y_train, Y_valid = train_test_split(\n",
    "    X_train, Y_train, test_size=0.1)\n",
    "\n",
    "X_train.shape, X_valid.shape, Y_train.shape, Y_valid.shape"
   ]
  },
  {
   "cell_type": "markdown",
   "metadata": {},
   "source": [
    "# Method "
   ]
  },
  {
   "cell_type": "markdown",
   "metadata": {},
   "source": [
    "## Build autoencoder model"
   ]
  },
  {
   "cell_type": "code",
   "execution_count": 19,
   "metadata": {},
   "outputs": [],
   "source": [
    "# hyperparameters\n",
    "batch_size = 16\n",
    "learning_rate = 0.0001\n",
    "epochs = 100\n",
    "\n",
    "# conv 1D\n",
    "num_kernels = 16\n",
    "feature_size = X_train.shape[1]\n",
    "inChannel = 2\n",
    "kr = 1e-3\n",
    "drop_prec = 0.50"
   ]
  },
  {
   "cell_type": "code",
   "execution_count": 20,
   "metadata": {},
   "outputs": [
    {
     "name": "stdout",
     "output_type": "stream",
     "text": [
      "_________________________________________________________________\n",
      "Layer (type)                 Output Shape              Param #   \n",
      "=================================================================\n",
      "conv1d (Conv1D)              (None, 28220, 16)         176       \n",
      "_________________________________________________________________\n",
      "average_pooling1d (AveragePo (None, 14110, 16)         0         \n",
      "_________________________________________________________________\n",
      "dropout (Dropout)            (None, 14110, 16)         0         \n",
      "_________________________________________________________________\n",
      "flatten (Flatten)            (None, 225760)            0         \n",
      "_________________________________________________________________\n",
      "dropout_1 (Dropout)          (None, 225760)            0         \n",
      "_________________________________________________________________\n",
      "dense (Dense)                (None, 1)                 225761    \n",
      "=================================================================\n",
      "Total params: 225,937\n",
      "Trainable params: 225,937\n",
      "Non-trainable params: 0\n",
      "_________________________________________________________________\n"
     ]
    }
   ],
   "source": [
    "classifier = Sequential()\n",
    "\n",
    "classifier.add(\n",
    "    Conv1D(\n",
    "        num_kernels,\n",
    "        5,\n",
    "        padding='same',\n",
    "        activation='relu',\n",
    "        kernel_regularizer=l1_l2(kr),\n",
    "        input_shape=(feature_size, inChannel)))\n",
    "classifier.add(AveragePooling1D(pool_size=2))\n",
    "classifier.add(Dropout(drop_prec))\n",
    "\n",
    "classifier.add(Flatten())\n",
    "\n",
    "classifier.add(Dropout(drop_prec))\n",
    "classifier.add(Dense(1, activation='sigmoid'))\n",
    "\n",
    "#compile\n",
    "classifier.compile(\n",
    "    loss='binary_crossentropy',\n",
    "    optimizer=tf.keras.optimizers.Adam(learning_rate),\n",
    "    metrics=['accuracy'])\n",
    "\n",
    "#summary\n",
    "classifier.summary()"
   ]
  },
  {
   "cell_type": "markdown",
   "metadata": {},
   "source": [
    "## Training"
   ]
  },
  {
   "cell_type": "code",
   "execution_count": 21,
   "metadata": {},
   "outputs": [],
   "source": [
    "# early stopping call back with val_loss monitor\n",
    "EarlyStopping = keras.callbacks.EarlyStopping(\n",
    "    monitor='val_loss',\n",
    "    min_delta=0,\n",
    "    patience=20,\n",
    "    verbose=0,\n",
    "    mode='auto',\n",
    "    baseline=None\n",
    ")\n",
    "\n",
    "# model checkpoint call back with val_acc monitor\n",
    "ModelCheckpoint = keras.callbacks.ModelCheckpoint(\n",
    "    'models/CNN_checkpoint_model.h5',\n",
    "    monitor='val_acc',\n",
    "    verbose=0,\n",
    "    save_best_only=True,\n",
    "    save_weights_only=False,\n",
    "    mode='auto',\n",
    "    period=1)"
   ]
  },
  {
   "cell_type": "code",
   "execution_count": 22,
   "metadata": {
    "scrolled": false
   },
   "outputs": [
    {
     "name": "stdout",
     "output_type": "stream",
     "text": [
      "Train on 3046 samples, validate on 339 samples\n",
      "Epoch 1/100\n",
      "3046/3046 [==============================] - 5s 2ms/step - loss: 0.6377 - acc: 0.6855 - val_loss: 0.5844 - val_acc: 0.7109\n",
      "Epoch 2/100\n",
      "3046/3046 [==============================] - 2s 566us/step - loss: 0.5314 - acc: 0.7597 - val_loss: 0.4905 - val_acc: 0.7611\n",
      "Epoch 3/100\n",
      "3046/3046 [==============================] - 2s 561us/step - loss: 0.4841 - acc: 0.7915 - val_loss: 0.4768 - val_acc: 0.7788\n",
      "Epoch 4/100\n",
      "3046/3046 [==============================] - 2s 552us/step - loss: 0.4605 - acc: 0.8079 - val_loss: 0.4843 - val_acc: 0.7758\n",
      "Epoch 5/100\n",
      "3046/3046 [==============================] - 2s 562us/step - loss: 0.4505 - acc: 0.8070 - val_loss: 0.4664 - val_acc: 0.8083\n",
      "Epoch 6/100\n",
      "3046/3046 [==============================] - 2s 554us/step - loss: 0.4351 - acc: 0.8155 - val_loss: 0.4986 - val_acc: 0.7699\n",
      "Epoch 7/100\n",
      "3046/3046 [==============================] - 2s 642us/step - loss: 0.4224 - acc: 0.8244 - val_loss: 0.4573 - val_acc: 0.7935\n",
      "Epoch 8/100\n",
      "3046/3046 [==============================] - 2s 543us/step - loss: 0.4216 - acc: 0.8188 - val_loss: 0.4636 - val_acc: 0.7876\n",
      "Epoch 9/100\n",
      "3046/3046 [==============================] - 2s 522us/step - loss: 0.4022 - acc: 0.8355 - val_loss: 0.4539 - val_acc: 0.7994\n",
      "Epoch 10/100\n",
      "3046/3046 [==============================] - 2s 644us/step - loss: 0.3918 - acc: 0.8385 - val_loss: 0.4576 - val_acc: 0.7994\n",
      "Epoch 11/100\n",
      "3046/3046 [==============================] - 2s 569us/step - loss: 0.3914 - acc: 0.8368 - val_loss: 0.4890 - val_acc: 0.7729\n",
      "Epoch 12/100\n",
      "3046/3046 [==============================] - 2s 575us/step - loss: 0.3797 - acc: 0.8496 - val_loss: 0.4780 - val_acc: 0.7758\n",
      "Epoch 13/100\n",
      "3046/3046 [==============================] - 2s 577us/step - loss: 0.3787 - acc: 0.8441 - val_loss: 0.4607 - val_acc: 0.7876\n",
      "Epoch 14/100\n",
      "3046/3046 [==============================] - 2s 515us/step - loss: 0.3664 - acc: 0.8549 - val_loss: 0.4405 - val_acc: 0.7965\n",
      "Epoch 15/100\n",
      "3046/3046 [==============================] - 2s 509us/step - loss: 0.3601 - acc: 0.8621 - val_loss: 0.4612 - val_acc: 0.7906\n",
      "Epoch 16/100\n",
      "3046/3046 [==============================] - 2s 523us/step - loss: 0.3619 - acc: 0.8519 - val_loss: 0.5071 - val_acc: 0.7552\n",
      "Epoch 17/100\n",
      "3046/3046 [==============================] - 2s 616us/step - loss: 0.3591 - acc: 0.8536 - val_loss: 0.4528 - val_acc: 0.7906\n",
      "Epoch 18/100\n",
      "3046/3046 [==============================] - 2s 518us/step - loss: 0.3650 - acc: 0.8542 - val_loss: 0.4748 - val_acc: 0.7876\n",
      "Epoch 19/100\n",
      "3046/3046 [==============================] - 2s 571us/step - loss: 0.3612 - acc: 0.8569 - val_loss: 0.4408 - val_acc: 0.7994\n",
      "Epoch 20/100\n",
      "3046/3046 [==============================] - 2s 545us/step - loss: 0.3503 - acc: 0.8595 - val_loss: 0.4758 - val_acc: 0.7847\n",
      "Epoch 21/100\n",
      "3046/3046 [==============================] - 2s 516us/step - loss: 0.3390 - acc: 0.8634 - val_loss: 0.4599 - val_acc: 0.7935\n",
      "Epoch 22/100\n",
      "3046/3046 [==============================] - 2s 535us/step - loss: 0.3418 - acc: 0.8615 - val_loss: 0.4640 - val_acc: 0.7994\n",
      "Epoch 23/100\n",
      "3046/3046 [==============================] - 2s 572us/step - loss: 0.3345 - acc: 0.8677 - val_loss: 0.4559 - val_acc: 0.7935\n",
      "Epoch 24/100\n",
      "3046/3046 [==============================] - 2s 513us/step - loss: 0.3289 - acc: 0.8700 - val_loss: 0.4425 - val_acc: 0.7994\n",
      "Epoch 25/100\n",
      "3046/3046 [==============================] - 2s 519us/step - loss: 0.3273 - acc: 0.8789 - val_loss: 0.4388 - val_acc: 0.7906\n",
      "Epoch 26/100\n",
      "3046/3046 [==============================] - 2s 514us/step - loss: 0.3230 - acc: 0.8749 - val_loss: 0.4523 - val_acc: 0.8053\n",
      "Epoch 27/100\n",
      "3046/3046 [==============================] - 2s 591us/step - loss: 0.3143 - acc: 0.8835 - val_loss: 0.4567 - val_acc: 0.8053\n",
      "Epoch 28/100\n",
      "3046/3046 [==============================] - 2s 509us/step - loss: 0.3250 - acc: 0.8703 - val_loss: 0.4424 - val_acc: 0.7906\n",
      "Epoch 29/100\n",
      "3046/3046 [==============================] - 2s 497us/step - loss: 0.3070 - acc: 0.8812 - val_loss: 0.4444 - val_acc: 0.7994\n",
      "Epoch 30/100\n",
      "3046/3046 [==============================] - 2s 508us/step - loss: 0.3079 - acc: 0.8759 - val_loss: 0.4545 - val_acc: 0.7935\n",
      "Epoch 31/100\n",
      "3046/3046 [==============================] - 2s 506us/step - loss: 0.3000 - acc: 0.8851 - val_loss: 0.4463 - val_acc: 0.7876\n",
      "Epoch 32/100\n",
      "3046/3046 [==============================] - 2s 590us/step - loss: 0.2993 - acc: 0.8890 - val_loss: 0.4693 - val_acc: 0.7817\n",
      "Epoch 33/100\n",
      "3046/3046 [==============================] - 2s 509us/step - loss: 0.2975 - acc: 0.8838 - val_loss: 0.4386 - val_acc: 0.7935\n",
      "Epoch 34/100\n",
      "3046/3046 [==============================] - 2s 632us/step - loss: 0.2899 - acc: 0.8949 - val_loss: 0.4419 - val_acc: 0.7994\n",
      "Epoch 35/100\n",
      "3046/3046 [==============================] - 2s 503us/step - loss: 0.2979 - acc: 0.8854 - val_loss: 0.4342 - val_acc: 0.8053\n",
      "Epoch 36/100\n",
      "3046/3046 [==============================] - 2s 509us/step - loss: 0.2828 - acc: 0.8995 - val_loss: 0.4525 - val_acc: 0.8053\n",
      "Epoch 37/100\n",
      "3046/3046 [==============================] - 2s 524us/step - loss: 0.2810 - acc: 0.8963 - val_loss: 0.4510 - val_acc: 0.7935\n",
      "Epoch 38/100\n",
      "3046/3046 [==============================] - 2s 575us/step - loss: 0.2838 - acc: 0.8943 - val_loss: 0.4828 - val_acc: 0.7670\n",
      "Epoch 39/100\n",
      "3046/3046 [==============================] - 2s 507us/step - loss: 0.2777 - acc: 0.8992 - val_loss: 0.4278 - val_acc: 0.8024\n",
      "Epoch 40/100\n",
      "3046/3046 [==============================] - 2s 511us/step - loss: 0.2646 - acc: 0.9061 - val_loss: 0.4453 - val_acc: 0.8053\n",
      "Epoch 41/100\n",
      "3046/3046 [==============================] - 2s 535us/step - loss: 0.2702 - acc: 0.9028 - val_loss: 0.4537 - val_acc: 0.8024\n",
      "Epoch 42/100\n",
      "3046/3046 [==============================] - 2s 517us/step - loss: 0.2780 - acc: 0.8999 - val_loss: 0.4455 - val_acc: 0.7935\n",
      "Epoch 43/100\n",
      "3046/3046 [==============================] - 2s 564us/step - loss: 0.2653 - acc: 0.9074 - val_loss: 0.4822 - val_acc: 0.7788\n",
      "Epoch 44/100\n",
      "3046/3046 [==============================] - 2s 551us/step - loss: 0.2657 - acc: 0.9087 - val_loss: 0.4544 - val_acc: 0.7817\n",
      "Epoch 45/100\n",
      "3046/3046 [==============================] - 2s 516us/step - loss: 0.2549 - acc: 0.9058 - val_loss: 0.4872 - val_acc: 0.7788\n",
      "Epoch 46/100\n",
      "3046/3046 [==============================] - 2s 506us/step - loss: 0.2603 - acc: 0.9081 - val_loss: 0.4339 - val_acc: 0.8083\n",
      "Epoch 47/100\n",
      "3046/3046 [==============================] - 2s 521us/step - loss: 0.2572 - acc: 0.9137 - val_loss: 0.4394 - val_acc: 0.8171\n",
      "Epoch 48/100\n",
      "3046/3046 [==============================] - 2s 515us/step - loss: 0.2501 - acc: 0.9160 - val_loss: 0.4371 - val_acc: 0.7994\n",
      "Epoch 49/100\n",
      "3046/3046 [==============================] - 2s 508us/step - loss: 0.2392 - acc: 0.9186 - val_loss: 0.4493 - val_acc: 0.7994\n",
      "Epoch 50/100\n",
      "3046/3046 [==============================] - 2s 536us/step - loss: 0.2449 - acc: 0.9176 - val_loss: 0.4474 - val_acc: 0.8024\n",
      "Epoch 51/100\n",
      "3046/3046 [==============================] - 2s 585us/step - loss: 0.2446 - acc: 0.9186 - val_loss: 0.4285 - val_acc: 0.8053\n",
      "Epoch 52/100\n",
      "3046/3046 [==============================] - 2s 505us/step - loss: 0.2417 - acc: 0.9222 - val_loss: 0.4299 - val_acc: 0.7994\n",
      "Epoch 53/100\n",
      "3046/3046 [==============================] - 2s 518us/step - loss: 0.2268 - acc: 0.9314 - val_loss: 0.4751 - val_acc: 0.7817\n",
      "Epoch 54/100\n",
      "3046/3046 [==============================] - 2s 518us/step - loss: 0.2317 - acc: 0.9294 - val_loss: 0.4310 - val_acc: 0.8083\n",
      "Epoch 55/100\n",
      "3046/3046 [==============================] - 2s 527us/step - loss: 0.2248 - acc: 0.9271 - val_loss: 0.4306 - val_acc: 0.8142\n",
      "Epoch 56/100\n",
      "3046/3046 [==============================] - 2s 514us/step - loss: 0.2217 - acc: 0.9307 - val_loss: 0.4428 - val_acc: 0.8053\n",
      "Epoch 57/100\n",
      "3046/3046 [==============================] - 2s 514us/step - loss: 0.2229 - acc: 0.9317 - val_loss: 0.4235 - val_acc: 0.8024\n",
      "Epoch 58/100\n",
      "3046/3046 [==============================] - 2s 566us/step - loss: 0.2200 - acc: 0.9294 - val_loss: 0.4282 - val_acc: 0.8024\n",
      "Epoch 59/100\n",
      "3046/3046 [==============================] - 2s 565us/step - loss: 0.2183 - acc: 0.9294 - val_loss: 0.4236 - val_acc: 0.8083\n",
      "Epoch 60/100\n"
     ]
    },
    {
     "name": "stdout",
     "output_type": "stream",
     "text": [
      "3046/3046 [==============================] - 2s 511us/step - loss: 0.2129 - acc: 0.9373 - val_loss: 0.4263 - val_acc: 0.8112\n",
      "Epoch 61/100\n",
      "3046/3046 [==============================] - 2s 514us/step - loss: 0.2146 - acc: 0.9327 - val_loss: 0.4334 - val_acc: 0.7994\n",
      "Epoch 62/100\n",
      "3046/3046 [==============================] - 2s 511us/step - loss: 0.2076 - acc: 0.9389 - val_loss: 0.4204 - val_acc: 0.8083\n",
      "Epoch 63/100\n",
      "3046/3046 [==============================] - 2s 511us/step - loss: 0.2047 - acc: 0.9409 - val_loss: 0.4274 - val_acc: 0.8142\n",
      "Epoch 64/100\n",
      "3046/3046 [==============================] - 2s 577us/step - loss: 0.2035 - acc: 0.9422 - val_loss: 0.4418 - val_acc: 0.8142\n",
      "Epoch 65/100\n",
      "3046/3046 [==============================] - 2s 532us/step - loss: 0.2101 - acc: 0.9327 - val_loss: 0.4294 - val_acc: 0.8112\n",
      "Epoch 66/100\n",
      "3046/3046 [==============================] - 2s 515us/step - loss: 0.2015 - acc: 0.9442 - val_loss: 0.4190 - val_acc: 0.8053\n",
      "Epoch 67/100\n",
      "3046/3046 [==============================] - 2s 508us/step - loss: 0.1976 - acc: 0.9425 - val_loss: 0.4253 - val_acc: 0.8053\n",
      "Epoch 68/100\n",
      "3046/3046 [==============================] - 2s 521us/step - loss: 0.1945 - acc: 0.9442 - val_loss: 0.4370 - val_acc: 0.8201\n",
      "Epoch 69/100\n",
      "3046/3046 [==============================] - 2s 552us/step - loss: 0.1879 - acc: 0.9491 - val_loss: 0.4557 - val_acc: 0.8053\n",
      "Epoch 70/100\n",
      "3046/3046 [==============================] - 2s 564us/step - loss: 0.1868 - acc: 0.9544 - val_loss: 0.4199 - val_acc: 0.8201\n",
      "Epoch 71/100\n",
      "3046/3046 [==============================] - 2s 506us/step - loss: 0.1880 - acc: 0.9471 - val_loss: 0.4276 - val_acc: 0.8201\n",
      "Epoch 72/100\n",
      "3046/3046 [==============================] - 2s 512us/step - loss: 0.1842 - acc: 0.9488 - val_loss: 0.4343 - val_acc: 0.8171\n",
      "Epoch 73/100\n",
      "3046/3046 [==============================] - 2s 546us/step - loss: 0.1817 - acc: 0.9524 - val_loss: 0.4240 - val_acc: 0.8230\n",
      "Epoch 74/100\n",
      "3046/3046 [==============================] - 2s 503us/step - loss: 0.1832 - acc: 0.9531 - val_loss: 0.4234 - val_acc: 0.8112\n",
      "Epoch 75/100\n",
      "3046/3046 [==============================] - 2s 502us/step - loss: 0.1772 - acc: 0.9557 - val_loss: 0.4357 - val_acc: 0.8053\n",
      "Epoch 76/100\n",
      "3046/3046 [==============================] - 2s 511us/step - loss: 0.1752 - acc: 0.9576 - val_loss: 0.4435 - val_acc: 0.8112\n",
      "Epoch 77/100\n",
      "3046/3046 [==============================] - 2s 502us/step - loss: 0.1691 - acc: 0.9540 - val_loss: 0.4257 - val_acc: 0.8112\n",
      "Epoch 78/100\n",
      "3046/3046 [==============================] - 2s 518us/step - loss: 0.1697 - acc: 0.9544 - val_loss: 0.4414 - val_acc: 0.8083\n",
      "Epoch 79/100\n",
      "3046/3046 [==============================] - 2s 574us/step - loss: 0.1659 - acc: 0.9590 - val_loss: 0.4408 - val_acc: 0.8201\n",
      "Epoch 80/100\n",
      "3046/3046 [==============================] - 2s 513us/step - loss: 0.1681 - acc: 0.9576 - val_loss: 0.4223 - val_acc: 0.8201\n",
      "Epoch 81/100\n",
      "3046/3046 [==============================] - 2s 505us/step - loss: 0.1595 - acc: 0.9599 - val_loss: 0.4194 - val_acc: 0.8112\n",
      "Epoch 82/100\n",
      "3046/3046 [==============================] - 2s 504us/step - loss: 0.1522 - acc: 0.9652 - val_loss: 0.4223 - val_acc: 0.8230\n",
      "Epoch 83/100\n",
      "3046/3046 [==============================] - 2s 504us/step - loss: 0.1592 - acc: 0.9626 - val_loss: 0.4295 - val_acc: 0.8112\n",
      "Epoch 84/100\n",
      "3046/3046 [==============================] - 2s 506us/step - loss: 0.1620 - acc: 0.9580 - val_loss: 0.4158 - val_acc: 0.8142\n",
      "Epoch 85/100\n",
      "3046/3046 [==============================] - 2s 498us/step - loss: 0.1517 - acc: 0.9662 - val_loss: 0.4305 - val_acc: 0.8142\n",
      "Epoch 86/100\n",
      "3046/3046 [==============================] - 2s 506us/step - loss: 0.1492 - acc: 0.9662 - val_loss: 0.4471 - val_acc: 0.8142\n",
      "Epoch 87/100\n",
      "3046/3046 [==============================] - 2s 502us/step - loss: 0.1488 - acc: 0.9659 - val_loss: 0.4378 - val_acc: 0.8112\n",
      "Epoch 88/100\n",
      "3046/3046 [==============================] - 2s 501us/step - loss: 0.1500 - acc: 0.9668 - val_loss: 0.4319 - val_acc: 0.8142\n",
      "Epoch 89/100\n",
      "3046/3046 [==============================] - 2s 504us/step - loss: 0.1453 - acc: 0.9675 - val_loss: 0.4279 - val_acc: 0.8142\n",
      "Epoch 90/100\n",
      "3046/3046 [==============================] - 2s 510us/step - loss: 0.1471 - acc: 0.9665 - val_loss: 0.4217 - val_acc: 0.8230\n",
      "Epoch 91/100\n",
      "3046/3046 [==============================] - 2s 526us/step - loss: 0.1407 - acc: 0.9731 - val_loss: 0.4248 - val_acc: 0.8230\n",
      "Epoch 92/100\n",
      "3046/3046 [==============================] - 2s 551us/step - loss: 0.1435 - acc: 0.9678 - val_loss: 0.4232 - val_acc: 0.8171\n",
      "Epoch 93/100\n",
      "3046/3046 [==============================] - 2s 523us/step - loss: 0.1427 - acc: 0.9691 - val_loss: 0.4376 - val_acc: 0.8230\n",
      "Epoch 94/100\n",
      "3046/3046 [==============================] - 2s 499us/step - loss: 0.1355 - acc: 0.9724 - val_loss: 0.4543 - val_acc: 0.8171\n",
      "Epoch 95/100\n",
      "3046/3046 [==============================] - 2s 513us/step - loss: 0.1349 - acc: 0.9773 - val_loss: 0.4249 - val_acc: 0.8289\n",
      "Epoch 96/100\n",
      "3046/3046 [==============================] - 2s 505us/step - loss: 0.1320 - acc: 0.9767 - val_loss: 0.4380 - val_acc: 0.8112\n",
      "Epoch 97/100\n",
      "3046/3046 [==============================] - 2s 502us/step - loss: 0.1362 - acc: 0.9718 - val_loss: 0.4274 - val_acc: 0.8083\n",
      "Epoch 98/100\n",
      "3046/3046 [==============================] - 2s 501us/step - loss: 0.1345 - acc: 0.9747 - val_loss: 0.4210 - val_acc: 0.8201\n",
      "Epoch 99/100\n",
      "3046/3046 [==============================] - 2s 575us/step - loss: 0.1346 - acc: 0.9741 - val_loss: 0.4293 - val_acc: 0.8201\n",
      "Epoch 100/100\n",
      "3046/3046 [==============================] - 2s 520us/step - loss: 0.1318 - acc: 0.9728 - val_loss: 0.4456 - val_acc: 0.8112\n"
     ]
    }
   ],
   "source": [
    "classifier_fit = classifier.fit(\n",
    "    X_train,\n",
    "    Y_train,\n",
    "    shuffle=True,\n",
    "    batch_size=batch_size,\n",
    "    epochs=epochs,\n",
    "    verbose=1,\n",
    "    validation_data=(X_valid, Y_valid),\n",
    "    callbacks=[EarlyStopping, ModelCheckpoint]\n",
    ")"
   ]
  },
  {
   "cell_type": "code",
   "execution_count": 23,
   "metadata": {},
   "outputs": [
    {
     "data": {
      "image/png": "[encoded data removed]",
      "text/plain": [
       "<Figure size 432x288 with 1 Axes>"
      ]
     },
     "metadata": {
      "needs_background": "light"
     },
     "output_type": "display_data"
    }
   ],
   "source": [
    "# plot loss curve on validation data\n",
    "loss = classifier_fit.history['loss']\n",
    "val_loss = classifier_fit.history['val_loss']\n",
    "\n",
    "plt.figure()\n",
    "plt.plot(range(len(loss)), loss, 'bo', label='Training loss')\n",
    "plt.plot(range(len(val_loss)), val_loss, 'b', label='Validation loss')\n",
    "plt.title('Training and validation loss')\n",
    "plt.legend()\n",
    "plt.show()"
   ]
  },
  {
   "cell_type": "code",
   "execution_count": 24,
   "metadata": {},
   "outputs": [
    {
     "data": {
      "image/png": "[encoded data removed]",
      "text/plain": [
       "<Figure size 432x288 with 1 Axes>"
      ]
     },
     "metadata": {
      "needs_background": "light"
     },
     "output_type": "display_data"
    }
   ],
   "source": [
    "# plot accuracy curve on validation data\n",
    "acc = classifier_fit.history['acc']\n",
    "val_acc = classifier_fit.history['val_acc']\n",
    "plt.figure()\n",
    "plt.plot(range(len(acc)), acc, 'bo', label='Training acc')\n",
    "plt.plot(range(len(val_acc)), val_acc, 'b', label='Validation acc')\n",
    "plt.title('Training and validation acc')\n",
    "plt.legend()\n",
    "plt.show()"
   ]
  },
  {
   "cell_type": "markdown",
   "metadata": {},
   "source": [
    "# Prediction"
   ]
  },
  {
   "cell_type": "code",
   "execution_count": 25,
   "metadata": {},
   "outputs": [],
   "source": [
    "# load model\n",
    "# classifier = load_model('models/CNN_checkpoint_model.h5')"
   ]
  },
  {
   "cell_type": "code",
   "execution_count": 26,
   "metadata": {},
   "outputs": [],
   "source": [
    "# predict\n",
    "Y_predict = classifier.predict_classes(X_test)"
   ]
  },
  {
   "cell_type": "code",
   "execution_count": 27,
   "metadata": {},
   "outputs": [
    {
     "data": {
      "text/plain": [
       "array([[152,  29],\n",
       "       [ 29, 167]])"
      ]
     },
     "execution_count": 27,
     "metadata": {},
     "output_type": "execute_result"
    }
   ],
   "source": [
    "confusion_matrix(Y_test, Y_predict)"
   ]
  },
  {
   "cell_type": "code",
   "execution_count": 28,
   "metadata": {},
   "outputs": [
    {
     "data": {
      "text/plain": [
       "0.8461538461538461"
      ]
     },
     "execution_count": 28,
     "metadata": {},
     "output_type": "execute_result"
    }
   ],
   "source": [
    "# acc\n",
    "accuracy_score(Y_test, Y_predict)"
   ]
  },
  {
   "cell_type": "markdown",
   "metadata": {},
   "source": [
    "# Plot"
   ]
  },
  {
   "cell_type": "code",
   "execution_count": 29,
   "metadata": {},
   "outputs": [],
   "source": [
    "def plot_confusion_matrix(y_true, y_pred, classes,\n",
    "                          normalize=False,\n",
    "                          title=None,\n",
    "                          cmap=plt.cm.Blues):\n",
    "    \"\"\"\n",
    "    This function prints and plots the confusion matrix.\n",
    "    Normalization can be applied by setting `normalize=True`.\n",
    "    \"\"\"\n",
    "    if not title:\n",
    "        if normalize:\n",
    "            title = 'Normalized confusion matrix'\n",
    "        else:\n",
    "            title = 'Confusion matrix, without normalization'\n",
    "\n",
    "    # Compute confusion matrix\n",
    "    cm = confusion_matrix(y_true, y_pred)\n",
    "    # Only use the labels that appear in the data\n",
    "    classes = classes[unique_labels(y_true, y_pred)]\n",
    "    if normalize:\n",
    "        cm = cm.astype('float') / cm.sum(axis=1)[:, np.newaxis]\n",
    "        print(\"Normalized confusion matrix\")\n",
    "    else:\n",
    "        print('Confusion matrix, without normalization')\n",
    "\n",
    "    print(cm)\n",
    "\n",
    "    fig, ax = plt.subplots()\n",
    "    im = ax.imshow(cm, interpolation='nearest', cmap=cmap)\n",
    "    ax.figure.colorbar(im, ax=ax)\n",
    "    # We want to show all ticks...\n",
    "    ax.set(xticks=np.arange(cm.shape[1]),\n",
    "           yticks=np.arange(cm.shape[0]),\n",
    "           # ... and label them with the respective list entries\n",
    "           xticklabels=classes, yticklabels=classes,\n",
    "           title=title,\n",
    "           ylabel='True label',\n",
    "           xlabel='Predicted label')\n",
    "\n",
    "    # Rotate the tick labels and set their alignment.\n",
    "    plt.setp(ax.get_xticklabels(), rotation=45, ha=\"right\",\n",
    "             rotation_mode=\"anchor\")\n",
    "\n",
    "    # Loop over data dimensions and create text annotations.\n",
    "    fmt = '.2f' if normalize else 'd'\n",
    "    thresh = cm.max() / 1.5\n",
    "    # print(thresh)\n",
    "    for i in range(cm.shape[0]):\n",
    "        for j in range(cm.shape[1]):\n",
    "            # print(cm[i, j])\n",
    "            ax.text(j, i, format(cm[i, j], fmt),\n",
    "                    ha=\"center\", va=\"center\",\n",
    "                    color=\"white\" if cm[i, j] > thresh else \"black\")\n",
    "    fig.tight_layout()\n",
    "    return fig"
   ]
  },
  {
   "cell_type": "code",
   "execution_count": 30,
   "metadata": {},
   "outputs": [
    {
     "name": "stdout",
     "output_type": "stream",
     "text": [
      "Confusion matrix, without normalization\n",
      "[[152  29]\n",
      " [ 29 167]]\n"
     ]
    },
    {
     "data": {
      "image/png": "[encoded data removed]",
      "text/plain": [
       "<Figure size 432x288 with 2 Axes>"
      ]
     },
     "metadata": {
      "needs_background": "light"
     },
     "output_type": "display_data"
    }
   ],
   "source": [
    "fig=plot_confusion_matrix(Y_test.astype('int'), Y_predict, classes=np.asarray(['0','1']),\n",
    "                      title='Confusion matrix, without normalization')"
   ]
  },
  {
   "cell_type": "code",
   "execution_count": null,
   "metadata": {},
   "outputs": [],
   "source": []
  }
 ],
 "metadata": {
  "kernelspec": {
   "display_name": "Python 3",
   "language": "python",
   "name": "python3"
  },
  "language_info": {
   "codemirror_mode": {
    "name": "ipython",
    "version": 3
   },
   "file_extension": ".py",
   "mimetype": "text/x-python",
   "name": "python",
   "nbconvert_exporter": "python",
   "pygments_lexer": "ipython3",
   "version": "3.5.2"
  },
  "toc": {
   "base_numbering": 1,
   "nav_menu": {},
   "number_sections": true,
   "sideBar": true,
   "skip_h1_title": false,
   "title_cell": "Table of Contents",
   "title_sidebar": "Contents",
   "toc_cell": false,
   "toc_position": {},
   "toc_section_display": true,
   "toc_window_display": false
  }
 },
 "nbformat": 4,
 "nbformat_minor": 2
}
